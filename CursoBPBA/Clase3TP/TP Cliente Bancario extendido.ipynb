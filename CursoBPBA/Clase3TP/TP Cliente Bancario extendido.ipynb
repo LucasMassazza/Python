{
 "cells": [
  {
   "attachments": {},
   "cell_type": "markdown",
   "id": "6819c750",
   "metadata": {},
   "source": [
    "## Programación para el Análisis de Datos\n",
    "\n",
    "### Desarrollo de sistema de banca\n",
    "\n",
    "Esta práctica se enfoca en la construcción de un sistema de banca utilizando la Programación Orientada a Objetos en Python. Los ejercicios tienen como objetivo simular el comportamiento de los clientes de un banco y las operaciones que estos pueden realizar. Para lograrlo, se crearán varias clases y métodos, aplicando conceptos como la herencia y la sobrecarga de métodos.\n",
    "\n",
    "Los ejercicios son progresivos, es decir, cada uno se basa en los anteriores. Se comenzará creando una clase básica para representar a un cliente del banco. Luego, se irán añadiendo más funcionalidades a medida que se avanza en los ejercicios, tales como la posibilidad de realizar depósitos, retiros y transferencias, solicitar préstamos y consultar el saldo. Finalmente, se creará una clase que hereda de la clase de cliente original para representar a un cliente premium, añadiendo nuevas funcionalidades y atributos.\n",
    "\n",
    "El objetivo de esta práctica es aplicar y consolidar los conocimientos de Programación Orientada a Objetos en Python, así como entender cómo modelar y estructurar los datos para representar situaciones y comportamientos del mundo real.\n",
    "\n",
    "A continuación, encontrarás los enunciados de cada ejercicio individualmente."
   ]
  },
  {
   "attachments": {},
   "cell_type": "markdown",
   "id": "b209a34f",
   "metadata": {},
   "source": [
    "### Ejercicio 1: crear una Clase ClienteBanco\n",
    "\n",
    "Crea una clase llamada ``ClienteBanco`` que tenga los atributos `\"nombre\"`, `\"apellido\"`, `\"DNI\"`, `\"tipo_cuenta\"` y `\"saldo\"`. Estos atributos deben poder cargarse al instanciar la clase.\n",
    "\n",
    "Por ejemplo:\n",
    "```python\n",
    "a = ClienteBanco(nombre='Pablo', apellido='Perez', DNI='26.345.678', tipo_cuenta='Ahorro', saldo=5000) \n",
    "```\n",
    " \n",
    "Mostrar por pantalla todos los valores de la instancia definida.\n",
    "Por ejemplo:\n",
    "```python\n",
    "print(a) =>\n",
    "Nombre de cliente = Pablo \n",
    "Apellido = Perez\n",
    "DNI = 26.345.678\n",
    "Tipo de Cuenta = Ahorro\n",
    "Saldo disponible = 5000\n",
    "```"
   ]
  },
  {
   "attachments": {},
   "cell_type": "markdown",
   "id": "379301a6",
   "metadata": {},
   "source": []
  },
  {
   "cell_type": "code",
   "execution_count": 12,
   "id": "a35833c1",
   "metadata": {},
   "outputs": [
    {
     "name": "stdout",
     "output_type": "stream",
     "text": [
      "Nombre Lucas\n",
      "Apellido: Massazza\n",
      "DNI: 41823343\n",
      "Tipo de Cuenta: Corriente\n",
      "Saldo: $10000\n"
     ]
    }
   ],
   "source": [
    "## Completar con tu código\n",
    "\n",
    "import SimuladorBanco\n",
    "\n",
    "class ClienteBanco:\n",
    "\n",
    "    def __init__(self, nombre, apellido, dni, tipo_cuenta, saldo): \n",
    "        self.nombre=nombre\n",
    "        self.apellido=apellido\n",
    "        self.dni=dni\n",
    "        self.tipo_cuenta=tipo_cuenta\n",
    "        self.saldo=saldo\n",
    "    \n",
    "\n",
    "    def __str__(self):\n",
    "\n",
    "        return \"Nombre {}\\nApellido: {}\\nDNI: {}\\nTipo de Cuenta: {}\\nSaldo: ${}\".format(self.nombre,self.apellido,self.dni,self.tipo_cuenta,self.saldo)\n",
    "\n",
    "    \n",
    "\n",
    "\n",
    "cliente1 =ClienteBanco(\"Lucas\", \"Massazza\", 41823343, \"Corriente\", 10000)\n",
    "print(cliente1)\n",
    "##"
   ]
  },
  {
   "cell_type": "code",
   "execution_count": null,
   "id": "654a8f43",
   "metadata": {},
   "outputs": [],
   "source": [
    "a = ClienteBanco(nombre='Pablo', apellido='Perez', DNI='26.345.678', tipo_cuenta='Ahorro', saldo=5000)\n",
    "print(a)"
   ]
  },
  {
   "attachments": {},
   "cell_type": "markdown",
   "id": "8dbda3a4",
   "metadata": {},
   "source": [
    "### Ejercicio 2: Añadir Métodos a la Clase ClienteBanco\n",
    "\n",
    "A la clase definida en el ejercicio 1, agregue tres métodos que permitan al cliente realizar un depósito, realizar un retiro y consultar el saldo.  \n",
    "Los tres metodos deben de retornan el saldo del usuario al terminar y en el caso de retiro debe indicar por pantalla si no es posible realizar el retiro.  \n",
    "Por ejemplo:\n",
    "```python\n",
    "a.deposito(1000) => 6000\n",
    "a.retiro(200) => 5800\n",
    "a.consultar_saldo() => 5800 \n",
    "```"
   ]
  },
  {
   "cell_type": "code",
   "execution_count": null,
   "id": "94c132f6",
   "metadata": {},
   "outputs": [],
   "source": [
    "## Completar con tu código\n",
    "\n",
    "\n",
    "## "
   ]
  },
  {
   "attachments": {},
   "cell_type": "markdown",
   "id": "35cb4eaa",
   "metadata": {},
   "source": [
    "### Ejercicio 3: añadir Métodos para Realizar Transferencias\n",
    "\n",
    "Agregar un método que permita realizar transferencias entre dos instancias de la clase ClienteBanco. En caso de que el usuario no tenga suficientes fondos debe indicarlo por pantalla y no realizar ninguna transferencia.\n",
    "```python\n",
    "cliente = ClienteBanco(saldo=1000)\n",
    "otro_cliente = ClienteBanco(saldo=1000)\n",
    "cliente.transferencia(1000, otro_cliente)\n",
    "cliente.consultar_saldo() => 0\n",
    "cliente.consultar_saldo() => 2000\n",
    "```"
   ]
  },
  {
   "cell_type": "code",
   "execution_count": null,
   "id": "4915b965",
   "metadata": {},
   "outputs": [],
   "source": [
    "## Completar con tu código\n",
    "\n",
    "\n",
    "# "
   ]
  },
  {
   "attachments": {},
   "cell_type": "markdown",
   "id": "3d78bd61",
   "metadata": {},
   "source": [
    "### Ejercicio 4: Añadir un Método para Solicitar un Préstamo\n",
    "\n",
    "Agregar un método que permita solicitar un préstamo. El banco sólo prestará hasta un 50% del saldo disponible en la cuenta. El mismo debe retornar un booleano indicando si fue posible obtener el prestamo.\n",
    "\n",
    "```python\n",
    "cliente = ClienteBanco(saldo=1000)\n",
    "cliente.prestamo(600) => False\n",
    "cliente.prestamo(400) => True\n",
    "cliente.consultar_saldo() => 1400\n",
    "```"
   ]
  },
  {
   "cell_type": "code",
   "execution_count": null,
   "id": "40da95df",
   "metadata": {},
   "outputs": [],
   "source": [
    "## Completar con tu código\n",
    "\n",
    "\n",
    "\n",
    "#"
   ]
  },
  {
   "attachments": {},
   "cell_type": "markdown",
   "id": "0d343cb0",
   "metadata": {},
   "source": [
    "### Ejercicio 5: Creación de un Cliente Premium\n",
    "\n",
    "En este ejercicio, vamos a expandir nuestra clase ClienteBanco para incorporar una nueva categoría de clientes: los clientes Premium. Para ello, debemos crear una nueva clase ClientePremium que herede de ClienteBanco.\n",
    "\n",
    "1. Definir la clase ClientePremium que herede de la clase ClienteBanco. Esta nueva clase debe incluir un nuevo atributo llamado categoria, que puede tomar los valores 'platinum' o 'black'.\n",
    "\n",
    "2. El constructor de la clase ClientePremium debe utilizar super() para instanciar los atributos heredados de la clase ClienteBanco, y luego debe agregar el nuevo atributo categoria.\n",
    "\n",
    "3. Crear un método llamado beneficios() que devuelva un listado de beneficios específicos dependiendo de si la categoría del cliente es 'platinum' o 'black'.\n",
    "\n",
    "4. Sobreescribir el método __str__() de la clase ClienteBanco para que incluya la categoría del cliente Premium en la representación en cadena de caracteres del objeto."
   ]
  },
  {
   "cell_type": "code",
   "execution_count": null,
   "id": "e6b6bed6",
   "metadata": {},
   "outputs": [],
   "source": [
    "## Completar con tu código\n",
    "\n",
    "\n",
    "##"
   ]
  },
  {
   "cell_type": "code",
   "execution_count": null,
   "id": "906bade1",
   "metadata": {},
   "outputs": [],
   "source": []
  }
 ],
 "metadata": {
  "kernelspec": {
   "display_name": "Python 3 (ipykernel)",
   "language": "python",
   "name": "python3"
  },
  "language_info": {
   "codemirror_mode": {
    "name": "ipython",
    "version": 3
   },
   "file_extension": ".py",
   "mimetype": "text/x-python",
   "name": "python",
   "nbconvert_exporter": "python",
   "pygments_lexer": "ipython3",
   "version": "3.11.3"
  }
 },
 "nbformat": 4,
 "nbformat_minor": 5
}
