{
 "cells": [
  {
   "attachments": {},
   "cell_type": "markdown",
   "metadata": {
    "id": "yiSvWm5u5Ref"
   },
   "source": [
    "# Programación para el Análisis de Datos\n",
    "\n",
    "## Clase 1 - Fundamentos de programación en Python\n",
    "\n",
    "#### Referencias y bibliografía de consulta:\n",
    "\n",
    "- Python for Data Analysis by Wes McKinney (O’Reilly) 2018\n",
    "- [Documentación oficial de Python](https://docs.python.org/)\n",
    "- [PyPi](https://pypi.org/)"
   ]
  },
  {
   "attachments": {},
   "cell_type": "markdown",
   "metadata": {
    "id": "bEoKGPE6WQT2"
   },
   "source": [
    "### Sobre Python\n",
    "\n",
    "Python es un lenguaje de programación de alto nivel y de propósito general lanzado por Guido van Rossum en 1991. Actualmente es uno de los lenguajes de programación más utilizados principalmente por su **simpleza** y **versatilidad**.\n",
    "\n",
    "**Ventajas**\n",
    "- Facilidad de uso\n",
    "- Popularidad\n",
    "- Open Source\n",
    "- Integración con aplicaciones empresariales\n",
    "\n",
    "**Desventajas**\n",
    "- Ejecución lenta por ser un lenguaje interpretado"
   ]
  },
  {
   "attachments": {},
   "cell_type": "markdown",
   "metadata": {
    "id": "2RqZ4sO5WQT2"
   },
   "source": [
    "### Instalación de paquetes\n",
    "\n",
    "Para instalar un módulo en python se utilizan \n",
    "```bash\n",
    "# PIP\n",
    "pip install $MODULE\n",
    "# Anaconda\n",
    "conda install $MODULE\n",
    "```\n",
    "\n",
    "En un notebook de jupyter se puede utilizar el *magic command* **!** para ejecutar un comando por consola\n",
    "\n",
    "``` python\n",
    "!pwd\n",
    "```"
   ]
  },
  {
   "cell_type": "code",
   "execution_count": 1,
   "metadata": {
    "id": "vVAUZpEjWQT3",
    "outputId": "dce47efb-a91e-4711-b26d-e42114732c99"
   },
   "outputs": [
    {
     "name": "stdout",
     "output_type": "stream",
     "text": [
      "/Users/paolodonizetti/Library/CloudStorage/GoogleDrive-padonizetti@gmail.com/My Drive/Data Science/Proyectos/Clientes/DBlandIT/Python_bcoPcia/Clases/clase 1 - fundamentos de Python\r\n"
     ]
    }
   ],
   "source": [
    "!pwd"
   ]
  },
  {
   "attachments": {},
   "cell_type": "markdown",
   "metadata": {
    "id": "C6pwOeTS5Rek"
   },
   "source": [
    "## 1 - Introducción\n",
    "\n",
    "\n",
    "### 1.1 - Tabulaciones\n",
    "\n",
    "A diferencia de otros lenguajes de programación que utilizan símbolos (*{ }*, *\\[ \\]*), Python utiliza tabulaciones o espacios para delimitar y estructurar los bloques de código."
   ]
  },
  {
   "cell_type": "code",
   "execution_count": 2,
   "metadata": {
    "ExecuteTime": {
     "end_time": "2020-09-07T00:38:31.699285Z",
     "start_time": "2020-09-07T00:38:31.687299Z"
    },
    "id": "sL_vK_Ky5Rel",
    "outputId": "bc4596ce-929b-44a2-ee78-200d8914cdc8"
   },
   "outputs": [
    {
     "name": "stdout",
     "output_type": "stream",
     "text": [
      "1 es inpar\n",
      "2 es par\n",
      "3 es inpar\n",
      "4 es par\n",
      "5 es inpar\n",
      "6 es par\n",
      "7 es inpar\n",
      "8 es par\n"
     ]
    }
   ],
   "source": [
    "lista = [1,2,3,4,5,6,7,8]\n",
    "\n",
    "for i in lista:\n",
    "    if i % 2 == 0:\n",
    "        print(\"{} es par\".format(i))\n",
    "    else:\n",
    "        print(\"{} es inpar\".format(i))"
   ]
  },
  {
   "attachments": {},
   "cell_type": "markdown",
   "metadata": {
    "id": "OqyB4LDt5Reo"
   },
   "source": [
    "### 1.2 - Comentarios\n",
    "Cualquier texto precedido por la marca hash (signo de numeración) # es ignorado por el intérprete de Python. Esto se usa a menudo para añadir comentarios al código. A veces también puede querer excluir ciertos bloques de código sin borrarlos."
   ]
  },
  {
   "cell_type": "code",
   "execution_count": 3,
   "metadata": {
    "id": "w65JtqyP5Ret",
    "outputId": "8d07b555-fa70-4e37-c90d-af7f05b8703d"
   },
   "outputs": [
    {
     "name": "stdout",
     "output_type": "stream",
     "text": [
      "1 es inpar\n",
      "2 es par\n",
      "3 es inpar\n",
      "4 es par\n",
      "5 es inpar\n",
      "6 es par\n",
      "7 es inpar\n",
      "8 es par\n"
     ]
    }
   ],
   "source": [
    "# Creamos una lista de números:\n",
    "lista = [1,2,3,4,5,6,7,8]\n",
    "\n",
    "# Iteramos por los elementos de la lista\n",
    "for i in lista:\n",
    "    if i % 2 == 0: # Si el numero es par\n",
    "        print(\"{} es par\".format(i))\n",
    "    else:\n",
    "        print(\"{} es inpar\".format(i))"
   ]
  },
  {
   "attachments": {},
   "cell_type": "markdown",
   "metadata": {
    "id": "3gk_20ij5Rew"
   },
   "source": [
    "### 1.3 - Función help()\n",
    "Esta función se utiliza para mostrar una breve descripción de uso  de una función específica.\n",
    "Si se utiliza la función sin argumentos, se inicializa una consola de ayuda."
   ]
  },
  {
   "cell_type": "code",
   "execution_count": 4,
   "metadata": {
    "ExecuteTime": {
     "end_time": "2020-09-07T15:14:29.572153Z",
     "start_time": "2020-09-07T15:14:29.565371Z"
    },
    "id": "Vkk4greL5Rex",
    "outputId": "22819a62-7a68-46ff-b8a5-e6e4e8554a6a"
   },
   "outputs": [
    {
     "name": "stdout",
     "output_type": "stream",
     "text": [
      "Help on built-in function print in module builtins:\n",
      "\n",
      "print(...)\n",
      "    print(value, ..., sep=' ', end='\\n', file=sys.stdout, flush=False)\n",
      "    \n",
      "    Prints the values to a stream, or to sys.stdout by default.\n",
      "    Optional keyword arguments:\n",
      "    file:  a file-like object (stream); defaults to the current sys.stdout.\n",
      "    sep:   string inserted between values, default a space.\n",
      "    end:   string appended after the last value, default a newline.\n",
      "    flush: whether to forcibly flush the stream.\n",
      "\n"
     ]
    }
   ],
   "source": [
    "help('print')"
   ]
  },
  {
   "attachments": {},
   "cell_type": "markdown",
   "metadata": {
    "id": "I3rvTDSi5Rez"
   },
   "source": [
    "### 1.4 - Tipado dinámico\n",
    "\n",
    "Cuando se asigna una variable (o nombre) en Python, se está creando una referencia al objeto en el lado derecho del signo igual. \n",
    "\n",
    "Este objeto no tiene un tipo de dato fijo. El tipo de dato depende de qué se está almacenando en la variable."
   ]
  },
  {
   "cell_type": "code",
   "execution_count": 5,
   "metadata": {
    "id": "Ddu7iv-v5Re0",
    "outputId": "df87e230-6972-4bad-f6b3-7f60018370d2"
   },
   "outputs": [
    {
     "name": "stdout",
     "output_type": "stream",
     "text": [
      "<class 'int'>\n"
     ]
    }
   ],
   "source": [
    "var = 1\n",
    "print(type(var))"
   ]
  },
  {
   "cell_type": "code",
   "execution_count": 6,
   "metadata": {
    "id": "_VhjrGOoWQT5",
    "outputId": "28a66a79-75e2-4dfa-a0e5-f7be7b2eeb3a"
   },
   "outputs": [
    {
     "name": "stdout",
     "output_type": "stream",
     "text": [
      "<class 'float'>\n"
     ]
    }
   ],
   "source": [
    "var = 2.0\n",
    "print(type(var))"
   ]
  },
  {
   "cell_type": "code",
   "execution_count": 7,
   "metadata": {
    "id": "xM8APCUzWQT5",
    "outputId": "8384ade1-2304-4ced-9c2d-78c61050f100"
   },
   "outputs": [
    {
     "name": "stdout",
     "output_type": "stream",
     "text": [
      "<class 'str'>\n"
     ]
    }
   ],
   "source": [
    "var = 'a'\n",
    "print(type(var))"
   ]
  },
  {
   "cell_type": "code",
   "execution_count": 8,
   "metadata": {
    "id": "YlmlvvtpWQT5",
    "outputId": "3aad3855-ef2a-46cc-d5e0-a9de3054cda9"
   },
   "outputs": [
    {
     "name": "stdout",
     "output_type": "stream",
     "text": [
      "<class 'list'>\n"
     ]
    }
   ],
   "source": [
    "var = [1, 2]\n",
    "print(type(var))"
   ]
  },
  {
   "cell_type": "code",
   "execution_count": 9,
   "metadata": {
    "id": "6yC1CiXpWQT5",
    "outputId": "ea467eef-163e-44f2-e2ff-1d2e353e9ebc"
   },
   "outputs": [
    {
     "name": "stdout",
     "output_type": "stream",
     "text": [
      "<class 'tuple'>\n"
     ]
    }
   ],
   "source": [
    "var = (1, 2)\n",
    "print(type(var))"
   ]
  },
  {
   "attachments": {},
   "cell_type": "markdown",
   "metadata": {
    "id": "ftcMk2Tf5Re3"
   },
   "source": [
    "Las variables son nombres de objetos dentro de un determinado espacio de nombres; la información de tipo se almacena en el propio objeto.\n",
    "\n",
    "Pero no podemos utilizar cualquier operación con cualquier tipo de dato.\n",
    "\n",
    "En el siguiente ejemplo se muestra una operación no permitida:"
   ]
  },
  {
   "cell_type": "code",
   "execution_count": 10,
   "metadata": {
    "ExecuteTime": {
     "end_time": "2020-09-07T15:16:24.594430Z",
     "start_time": "2020-09-07T15:16:24.580179Z"
    },
    "id": "2EcmX6rx5Re3",
    "outputId": "43732224-974b-4055-fe3a-23246b727e57"
   },
   "outputs": [
    {
     "name": "stdout",
     "output_type": "stream",
     "text": [
      "Error: unsupported operand type(s) for +: 'int' and 'str'\n"
     ]
    }
   ],
   "source": [
    "try:\n",
    "    5 + '5'\n",
    "except Exception as e:\n",
    "    print(\"Error:\", e)"
   ]
  },
  {
   "attachments": {},
   "cell_type": "markdown",
   "metadata": {
    "id": "rbohMHfa5Re6"
   },
   "source": [
    "En este sentido, se considera que Python es un lenguaje fuertemente tipificado, lo que significa que cada objeto tiene un tipo (o clase) específico, y las conversiones implícitas sólo se producirán en determinadas circunstancias evidentes, como se puede ver en los siguientes ejemplos:"
   ]
  },
  {
   "cell_type": "code",
   "execution_count": 11,
   "metadata": {
    "ExecuteTime": {
     "end_time": "2020-09-01T16:12:33.236557Z",
     "start_time": "2020-09-01T16:12:33.228965Z"
    },
    "id": "eRqPKCEh5Re6",
    "outputId": "69b7de46-7900-411b-e86f-c959c65a1a69"
   },
   "outputs": [
    {
     "name": "stdout",
     "output_type": "stream",
     "text": [
      "a is <class 'float'>, b is <class 'int'>\n",
      "a/b=  2.25\n"
     ]
    }
   ],
   "source": [
    "a = 4.5\n",
    "b = 2\n",
    "\n",
    "print('a is {0}, b is {1}'.format(type(a), type(b)))\n",
    "print('a/b= ', a/b)"
   ]
  },
  {
   "attachments": {},
   "cell_type": "markdown",
   "metadata": {
    "id": "dByR4Lns5Re_"
   },
   "source": [
    "En el caso de utilizar una función con el tipo de dato erroneo, se produce una excepción.\n",
    "Una Excepción es un evento que se produce ante una situación que el interprete no puede resolver.\n",
    "\n",
    "Para mas información sobre el tema se puede visitar el siguiente [link](https://docs.python.org/3.8/tutorial/errors.html#exceptions)"
   ]
  },
  {
   "attachments": {},
   "cell_type": "markdown",
   "metadata": {
    "id": "7hWbSnlO5RfP"
   },
   "source": [
    "## 2 - Tipos de dato\n",
    "\n",
    "### 2.1 - Numéricos"
   ]
  },
  {
   "cell_type": "code",
   "execution_count": 12,
   "metadata": {
    "ExecuteTime": {
     "end_time": "2020-09-01T15:57:54.957928Z",
     "start_time": "2020-09-01T15:57:54.940154Z"
    },
    "id": "rQL8dY4J5RfQ",
    "outputId": "8d1ad854-d732-45fd-8f9e-d3a17fb0c429"
   },
   "outputs": [
    {
     "name": "stdout",
     "output_type": "stream",
     "text": [
      "num1 es del tipo <class 'int'>\n"
     ]
    }
   ],
   "source": [
    "# Entero\n",
    "num1 = 3\n",
    "print(\"num1 es del tipo\", type(num1))"
   ]
  },
  {
   "cell_type": "code",
   "execution_count": 13,
   "metadata": {
    "id": "JJoIPnroWQT6",
    "outputId": "518a9954-87d9-4b70-bcf8-7e79a4d2f758"
   },
   "outputs": [
    {
     "name": "stdout",
     "output_type": "stream",
     "text": [
      "num2 es del tipo <class 'float'>\n"
     ]
    }
   ],
   "source": [
    "# Real\n",
    "num2 = 3.1\n",
    "print(\"num2 es del tipo\", type(num2))"
   ]
  },
  {
   "cell_type": "code",
   "execution_count": 14,
   "metadata": {
    "id": "6i9_OnLeWQT6",
    "outputId": "9b7f589f-ed44-4d45-c57f-f83c2a5f405d"
   },
   "outputs": [
    {
     "name": "stdout",
     "output_type": "stream",
     "text": [
      "c1 es del tipo <class 'complex'>\n",
      "c2 es del tipo <class 'complex'>\n"
     ]
    }
   ],
   "source": [
    "## Numeros complejos\n",
    "c1 = 1 - 1j\n",
    "c2 = complex(real=-2, imag=2)\n",
    "\n",
    "print(\"c1 es del tipo\", type(c1))\n",
    "print(\"c2 es del tipo\", type(c2))"
   ]
  },
  {
   "cell_type": "code",
   "execution_count": 15,
   "metadata": {
    "id": "QxRJ1rbuWQT6",
    "outputId": "d74f4642-ca3c-49b7-b7c5-11eff9418185"
   },
   "outputs": [
    {
     "data": {
      "text/plain": [
       "(1-1j)"
      ]
     },
     "execution_count": 15,
     "metadata": {},
     "output_type": "execute_result"
    }
   ],
   "source": [
    "c1"
   ]
  },
  {
   "cell_type": "code",
   "execution_count": 16,
   "metadata": {
    "id": "RXpGOqm_WQT6",
    "outputId": "d034090c-5873-4703-ebd4-fffa88e917de"
   },
   "outputs": [
    {
     "data": {
      "text/plain": [
       "(-2+2j)"
      ]
     },
     "execution_count": 16,
     "metadata": {},
     "output_type": "execute_result"
    }
   ],
   "source": [
    "c2"
   ]
  },
  {
   "attachments": {},
   "cell_type": "markdown",
   "metadata": {
    "ExecuteTime": {
     "end_time": "2020-09-01T15:57:54.957928Z",
     "start_time": "2020-09-01T15:57:54.940154Z"
    },
    "id": "18p-T6cE5RfS"
   },
   "source": [
    "#### Operaciones básicas"
   ]
  },
  {
   "cell_type": "code",
   "execution_count": 17,
   "metadata": {
    "id": "WghYxi2rWQT7",
    "outputId": "e987bdab-d1b6-4be5-c81e-80aea7b19123"
   },
   "outputs": [
    {
     "name": "stdout",
     "output_type": "stream",
     "text": [
      "Suma: num1 + num2 = 6.1\n"
     ]
    }
   ],
   "source": [
    "print(\"Suma: num1 + num2 =\", num1 + num2)"
   ]
  },
  {
   "cell_type": "code",
   "execution_count": 18,
   "metadata": {
    "id": "_VyVv-_QWQT7",
    "outputId": "e1648b1e-5c3a-4acd-e12b-892bc3760ab8"
   },
   "outputs": [
    {
     "name": "stdout",
     "output_type": "stream",
     "text": [
      "Resta: num1 - num2 = -0.10\n"
     ]
    }
   ],
   "source": [
    "print(\"Resta: num1 - num2 = {:.2f}\".format(num1 - num2))"
   ]
  },
  {
   "cell_type": "code",
   "execution_count": 19,
   "metadata": {
    "id": "w19uTZd2WQT7",
    "outputId": "3128e408-e86b-4631-f359-c8ed63d3fa5c"
   },
   "outputs": [
    {
     "name": "stdout",
     "output_type": "stream",
     "text": [
      "Negacion: -num1 = -3\n"
     ]
    }
   ],
   "source": [
    "print(\"Negacion: -num1 =\", -num1)"
   ]
  },
  {
   "cell_type": "code",
   "execution_count": 20,
   "metadata": {
    "id": "xzVbjFwbWQT7",
    "outputId": "34193381-c41f-4182-ccb9-cbe1640ff500"
   },
   "outputs": [
    {
     "name": "stdout",
     "output_type": "stream",
     "text": [
      "Multiplicación: num1 x 2 = 6\n"
     ]
    }
   ],
   "source": [
    "print(\"Multiplicación: num1 x 2 =\", num1*2)"
   ]
  },
  {
   "cell_type": "code",
   "execution_count": 21,
   "metadata": {
    "id": "sXLK-lQQWQT7",
    "outputId": "63caa092-e3a4-46d6-a3f9-b8550efd0450"
   },
   "outputs": [
    {
     "name": "stdout",
     "output_type": "stream",
     "text": [
      "División: num1/num2 = 0.97\n"
     ]
    }
   ],
   "source": [
    "print(\"División: num1/num2 = {:.2f}\".format(num1/num2))"
   ]
  },
  {
   "cell_type": "code",
   "execution_count": 22,
   "metadata": {
    "id": "xF2zHRIfWQT7",
    "outputId": "1dbbc2ad-89e8-4ff7-d436-53fa86f4fa77"
   },
   "outputs": [
    {
     "name": "stdout",
     "output_type": "stream",
     "text": [
      "División entera: 3 // 2 = 1\n"
     ]
    }
   ],
   "source": [
    "print(\"División entera: 3 // 2 =\", 3 // 2)"
   ]
  },
  {
   "cell_type": "code",
   "execution_count": 23,
   "metadata": {
    "id": "6NS1gOl0WQT7",
    "outputId": "5e35f835-5cf4-442a-c3f9-febe1659690b"
   },
   "outputs": [
    {
     "name": "stdout",
     "output_type": "stream",
     "text": [
      "Módulo: num1 % 2 = 1\n"
     ]
    }
   ],
   "source": [
    "print(\"Módulo: num1 % 2 =\", num1 % 2)"
   ]
  },
  {
   "cell_type": "code",
   "execution_count": 24,
   "metadata": {
    "ExecuteTime": {
     "end_time": "2020-09-01T15:57:54.957928Z",
     "start_time": "2020-09-01T15:57:54.940154Z"
    },
    "id": "iq11uRHP5RfS",
    "outputId": "1c570558-a298-42af-c16e-99205ff467bf"
   },
   "outputs": [
    {
     "name": "stdout",
     "output_type": "stream",
     "text": [
      "Exponenciación: num1 ** 2 = 9\n"
     ]
    }
   ],
   "source": [
    "print(\"Exponenciación: num1 ** 2 =\", num1 ** 2)"
   ]
  },
  {
   "attachments": {},
   "cell_type": "markdown",
   "metadata": {
    "id": "f3jE-Kin5RfW"
   },
   "source": [
    "### 2.2 - String\n"
   ]
  },
  {
   "cell_type": "code",
   "execution_count": 25,
   "metadata": {
    "ExecuteTime": {
     "end_time": "2020-09-07T15:38:09.467886Z",
     "start_time": "2020-09-07T15:38:09.458883Z"
    },
    "id": "mg0zZTqW5RfX"
   },
   "outputs": [],
   "source": [
    "docstring = \"\"\"Docstring\n",
    "                Se puede utilizar para realizar comentarios multi-linea\"\"\"\n",
    "\n",
    "string1 = \"Se pueden incluir comillas 'simples'.\"\n",
    "string2 = 'tercera forma de definir string'"
   ]
  },
  {
   "cell_type": "code",
   "execution_count": 26,
   "metadata": {
    "id": "HSpZ7k0TWQT7",
    "outputId": "361665cf-d128-4652-c6b5-d599ccf8c11d"
   },
   "outputs": [
    {
     "name": "stdout",
     "output_type": "stream",
     "text": [
      "Docstring\n",
      "                Se puede utilizar para realizar comentarios multi-linea\n"
     ]
    }
   ],
   "source": [
    "print(docstring)"
   ]
  },
  {
   "attachments": {},
   "cell_type": "markdown",
   "metadata": {
    "id": "wtCDRQbn5RfZ"
   },
   "source": [
    "#### Operaciones básicas"
   ]
  },
  {
   "attachments": {},
   "cell_type": "markdown",
   "metadata": {
    "id": "vhusyaxP5RfZ"
   },
   "source": [
    "Los strings se almacenan como listas y pueden ser accedidos mediante indices.\n",
    "\n",
    "**NOTA**: Los indices en Python inician en **0**"
   ]
  },
  {
   "cell_type": "code",
   "execution_count": 27,
   "metadata": {
    "ExecuteTime": {
     "end_time": "2020-09-07T14:45:53.210575Z",
     "start_time": "2020-09-07T14:45:53.187870Z"
    },
    "id": "zV9Pdo6o5Rfa",
    "outputId": "bd564f1b-0d99-4dbe-885f-7edf76f2b84b"
   },
   "outputs": [
    {
     "name": "stdout",
     "output_type": "stream",
     "text": [
      "La primera componente de string1 es: S\n"
     ]
    }
   ],
   "source": [
    "print('La primera componente de string1 es:', string1[0])"
   ]
  },
  {
   "attachments": {},
   "cell_type": "markdown",
   "metadata": {
    "id": "FrVRDjupWQT8"
   },
   "source": [
    "Definamos 2 strings:"
   ]
  },
  {
   "cell_type": "code",
   "execution_count": 28,
   "metadata": {
    "ExecuteTime": {
     "end_time": "2020-09-07T18:41:16.056406Z",
     "start_time": "2020-09-07T18:41:16.022378Z"
    },
    "id": "IS8tUlJR5Rfc"
   },
   "outputs": [],
   "source": [
    "a = \"Hello\"\n",
    "b = \"World\""
   ]
  },
  {
   "cell_type": "code",
   "execution_count": 29,
   "metadata": {
    "id": "X5miai8hWQT8",
    "outputId": "e0f3ac7e-6f44-49e6-e902-0f226af1faf5"
   },
   "outputs": [
    {
     "name": "stdout",
     "output_type": "stream",
     "text": [
      "La concatenación entre Hello y World es: HelloWorld\n"
     ]
    }
   ],
   "source": [
    "# Operador SUMA\n",
    "print('La concatenación entre {} y {} es: {}'.format(a, b, a+b))"
   ]
  },
  {
   "cell_type": "code",
   "execution_count": 30,
   "metadata": {
    "id": "aoWZEXe4WQT8",
    "outputId": "4c4ed112-798d-4843-fa66-2248373cead0"
   },
   "outputs": [
    {
     "data": {
      "text/plain": [
       "'Hello World'"
      ]
     },
     "execution_count": 30,
     "metadata": {},
     "output_type": "execute_result"
    }
   ],
   "source": [
    "# Función join\n",
    "' '.join(['Hello','World'])"
   ]
  },
  {
   "cell_type": "code",
   "execution_count": 1,
   "metadata": {
    "id": "jFAYMHiDWQT8",
    "outputId": "64a7afff-4fc8-4129-adb3-bc4117115a96"
   },
   "outputs": [
    {
     "ename": "NameError",
     "evalue": "name 'a' is not defined",
     "output_type": "error",
     "traceback": [
      "\u001b[1;31m---------------------------------------------------------------------------\u001b[0m",
      "\u001b[1;31mNameError\u001b[0m                                 Traceback (most recent call last)",
      "Cell \u001b[1;32mIn[1], line 2\u001b[0m\n\u001b[0;32m      1\u001b[0m \u001b[39m# Largo del string\u001b[39;00m\n\u001b[1;32m----> 2\u001b[0m \u001b[39mprint\u001b[39m(\u001b[39m\"\u001b[39m\u001b[39mEl string \u001b[39m\u001b[39m'\u001b[39m\u001b[39m{}\u001b[39;00m\u001b[39m'\u001b[39m\u001b[39m tiene un largo de \u001b[39m\u001b[39m{}\u001b[39;00m\u001b[39m caracteres\u001b[39m\u001b[39m\"\u001b[39m\u001b[39m.\u001b[39mformat(a, \u001b[39mlen\u001b[39m(a)))\n",
      "\u001b[1;31mNameError\u001b[0m: name 'a' is not defined"
     ]
    }
   ],
   "source": [
    "# Largo del string\n",
    "print(\"El string '{}' tiene un largo de {} caracteres\".format(a, len(a)))"
   ]
  },
  {
   "cell_type": "code",
   "execution_count": 2,
   "metadata": {
    "id": "Mu09Oq9fWQT8",
    "outputId": "6677fdb9-e0c1-43e9-a18d-fc59efe809ef"
   },
   "outputs": [
    {
     "name": "stdout",
     "output_type": "stream",
     "text": [
      "Este string   tiene espacios\n",
      "Tambien se pueden eliminar caracteres especiales\n"
     ]
    }
   ],
   "source": [
    "# Eliminacion de espacios\n",
    "print(\"  Este string   tiene espacios    \".strip())\n",
    "print(\"### Tambien se pueden eliminar caracteres especiales $%\".strip('# $%'))"
   ]
  },
  {
   "cell_type": "code",
   "execution_count": 33,
   "metadata": {
    "id": "-tP92-cAWQT8",
    "outputId": "fa86c1c8-844f-48ed-dd79-e5637e825ce1"
   },
   "outputs": [
    {
     "name": "stdout",
     "output_type": "stream",
     "text": [
      "['Esto', 'es', 'el', 'registro', 'de', 'un', 'csv']\n"
     ]
    }
   ],
   "source": [
    "# Dividir un string\n",
    "print(\"Esto,es,el,registro,de,un,csv\".split(','))"
   ]
  },
  {
   "cell_type": "code",
   "execution_count": 34,
   "metadata": {
    "ExecuteTime": {
     "end_time": "2020-09-07T15:52:51.444937Z",
     "start_time": "2020-09-07T15:52:51.438310Z"
    },
    "id": "DoRl7tV-5Rfe",
    "outputId": "94d39002-243d-4cb6-8e58-58f1440ed031"
   },
   "outputs": [
    {
     "name": "stdout",
     "output_type": "stream",
     "text": [
      "ESTE STRING TIENE MINUSCULAS\n",
      "este sring esta en mayuscula\n"
     ]
    }
   ],
   "source": [
    "# UPPERCASE y lowercase\n",
    "print(\"Este string tiene minusculas\".upper())\n",
    "print(\"ESTE SRING ESTA EN MAYUSCULA\".lower())"
   ]
  },
  {
   "attachments": {},
   "cell_type": "markdown",
   "metadata": {
    "id": "POocUElL5Rfl"
   },
   "source": [
    "## 3 - Operadores\n",
    "\n",
    "Un operador es un símbolo que realiza una operación.\n",
    "\n",
    "Existen distintos tipos de operadores que se pueden agrupar de la siguiente forma:\n",
    "    - Operadores aritméticos\n",
    "    - Operadores relacionales\n",
    "    - Operadores de asignación\n",
    "    - Operadores lógicos\n",
    "    - Operadores de pertenencia\n",
    "    - Operador binario\n",
    "    \n",
    "\n",
    "### 3.1 - Operadores aritméticos:"
   ]
  },
  {
   "cell_type": "code",
   "execution_count": 35,
   "metadata": {
    "ExecuteTime": {
     "end_time": "2020-09-07T19:24:37.723695Z",
     "start_time": "2020-09-07T19:24:37.706266Z"
    },
    "id": "9ZYN7IxD5Rfm",
    "outputId": "18d88b46-918c-46f9-85e5-7868947ab82d"
   },
   "outputs": [
    {
     "name": "stdout",
     "output_type": "stream",
     "text": [
      "Suma: 1 + 2 = 3\n",
      "Resta: 1 - 2 = -1\n",
      "División: 10 / 3 = 3.3333333333333335\n",
      "División entera: 3 // 2 = 1\n",
      "Módulo / Resto : 257 % 2 = 1\n",
      "Multiplicación: 7 * 8 = 56\n",
      "Exponenciación 2**3 = 8\n"
     ]
    }
   ],
   "source": [
    "# Suma\n",
    "print(\"Suma: 1 + 2 = {}\".format(1+2))\n",
    "# Resta\n",
    "print(\"Resta: 1 - 2 = {}\".format(1-2))\n",
    "# División\n",
    "print(\"División: 10 / 3 = {}\".format(10/3))\n",
    "# División entera\n",
    "print(\"División entera: 3 // 2 = {}\".format(3//2))\n",
    "# Módulo\n",
    "print(\"Módulo / Resto : 257 % 2 = {}\".format(257 % 2))\n",
    "# Multiplicación\n",
    "print(\"Multiplicación: 7 * 8 = {}\".format(7 * 8))\n",
    "# Exponenciación\n",
    "print(\"Exponenciación 2**3 = {}\".format(2 ** 3))\n"
   ]
  },
  {
   "attachments": {},
   "cell_type": "markdown",
   "metadata": {
    "id": "dJ-7N8Cu5Rfo"
   },
   "source": [
    "### 3.2 - Operadores relacionales\n",
    "Relacionan 2 variables y retornan una variable del tipo *booleana*"
   ]
  },
  {
   "cell_type": "code",
   "execution_count": 36,
   "metadata": {
    "ExecuteTime": {
     "end_time": "2020-09-07T19:31:21.909231Z",
     "start_time": "2020-09-07T19:31:21.898413Z"
    },
    "id": "9gaE4q4E5Rfo",
    "outputId": "8f199d92-d54f-41b4-e927-30765578ee03"
   },
   "outputs": [
    {
     "name": "stdout",
     "output_type": "stream",
     "text": [
      "a > 3.14 = True\n",
      "a < 3.14 = False\n",
      "a >= 3.14 = True\n",
      "a <= 3.14 = False\n",
      "a != 3.14 = True\n",
      "a == 3.14 = False\n",
      "True\n",
      "True\n"
     ]
    }
   ],
   "source": [
    "a = 10\n",
    "# Mayor\n",
    "print(\"a > 3.14 = {}\".format(a > 3.14))\n",
    "# Menor\n",
    "print(\"a < 3.14 = {}\".format(a < 3.14))\n",
    "# Mayor o igual\n",
    "print(\"a >= 3.14 = {}\".format(a >= 3.14))\n",
    "# Menor o igual\n",
    "print(\"a <= 3.14 = {}\".format(a <= 3.14))\n",
    "# Distinto\n",
    "print(\"a != 3.14 = {}\".format(a != 3.14))\n",
    "# Igual\n",
    "print(\"a == 3.14 = {}\".format(a == 3.14))\n",
    "\n",
    "# Las variables booleanas se representan numericamente como 0 (falso) y 1 (verdadero)\n",
    "print(0 == False)\n",
    "print(1 == True)"
   ]
  },
  {
   "attachments": {},
   "cell_type": "markdown",
   "metadata": {
    "id": "d6OLQIO25Rfq"
   },
   "source": [
    "### 3.3 - Operadores de asignación\n",
    "\n",
    "Estos operadores son utilizados para realizar asignaciones a variables:\n",
    "\n",
    "##### Suma:"
   ]
  },
  {
   "cell_type": "code",
   "execution_count": 37,
   "metadata": {
    "ExecuteTime": {
     "end_time": "2020-09-08T00:10:21.375046Z",
     "start_time": "2020-09-08T00:10:21.357808Z"
    },
    "id": "2CT8Wv4B5Rfs",
    "outputId": "fd561d4e-e874-4655-c1a0-459a423c694c"
   },
   "outputs": [
    {
     "name": "stdout",
     "output_type": "stream",
     "text": [
      "Suma y asignacion: var += 2 --> 4\n"
     ]
    }
   ],
   "source": [
    "var = 2\n",
    "var += 2 \n",
    "print(\"Suma y asignacion: var += 2 --> {}\".format(var))"
   ]
  },
  {
   "cell_type": "code",
   "execution_count": 38,
   "metadata": {
    "id": "9Qe9a0MQWQT9",
    "outputId": "cf53138e-7d74-4171-fac1-d9c981537139"
   },
   "outputs": [
    {
     "name": "stdout",
     "output_type": "stream",
     "text": [
      "4\n"
     ]
    }
   ],
   "source": [
    "var = 2 \n",
    "var = var + 2\n",
    "print(var)"
   ]
  },
  {
   "attachments": {},
   "cell_type": "markdown",
   "metadata": {
    "id": "6pKSwCsvWQT9"
   },
   "source": [
    "##### Resta:"
   ]
  },
  {
   "cell_type": "code",
   "execution_count": 39,
   "metadata": {
    "id": "k4fv-RFkWQT9",
    "outputId": "1720ecee-9692-4477-fe3d-9e2062f82717"
   },
   "outputs": [
    {
     "name": "stdout",
     "output_type": "stream",
     "text": [
      "Resta y asignacion: var -= 2 --> 0\n"
     ]
    }
   ],
   "source": [
    "var = 2\n",
    "var -= 2 \n",
    "print(\"Resta y asignacion: var -= 2 --> {}\".format(var))"
   ]
  },
  {
   "attachments": {},
   "cell_type": "markdown",
   "metadata": {
    "id": "kq0UQ86wWQT9"
   },
   "source": [
    "##### División:"
   ]
  },
  {
   "cell_type": "code",
   "execution_count": 40,
   "metadata": {
    "id": "vq9INHfJWQT9",
    "outputId": "8f5b2082-15ac-488b-cb4a-06aaf0bd26dc"
   },
   "outputs": [
    {
     "name": "stdout",
     "output_type": "stream",
     "text": [
      "División y asignacion: var /= 3 --> 0.6667\n"
     ]
    }
   ],
   "source": [
    "var = 2\n",
    "var /= 3 \n",
    "print(\"División y asignacion: var /= 3 --> {:.4f}\".format(var))"
   ]
  },
  {
   "attachments": {},
   "cell_type": "markdown",
   "metadata": {
    "id": "m-916OivWQT9"
   },
   "source": [
    "##### División entera:"
   ]
  },
  {
   "cell_type": "code",
   "execution_count": 41,
   "metadata": {
    "id": "6vBHgFiMWQT9",
    "outputId": "65d01594-0a1f-40c9-c9af-63f962787a4f"
   },
   "outputs": [
    {
     "name": "stdout",
     "output_type": "stream",
     "text": [
      "División entera y asignacion: var //= 2 --> 1\n"
     ]
    }
   ],
   "source": [
    "var = 2\n",
    "var //= 2 \n",
    "print(\"División entera y asignacion: var //= 2 --> {}\".format(var))"
   ]
  },
  {
   "attachments": {},
   "cell_type": "markdown",
   "metadata": {
    "id": "Rx2pR6dJWQT9"
   },
   "source": [
    "##### Módulo:"
   ]
  },
  {
   "cell_type": "code",
   "execution_count": 42,
   "metadata": {
    "id": "n9JTun5MWQT9",
    "outputId": "89fab0e2-29c0-4b9a-bf75-af08136293dc"
   },
   "outputs": [
    {
     "name": "stdout",
     "output_type": "stream",
     "text": [
      "Módulo / Resto  y asignación: var  %=  2 --> 0\n"
     ]
    }
   ],
   "source": [
    "var = 2\n",
    "var  %=  2 \n",
    "print(\"Módulo / Resto  y asignación: var  %=  2 --> {}\".format(var))"
   ]
  },
  {
   "attachments": {},
   "cell_type": "markdown",
   "metadata": {
    "id": "pdcPpL6gWQT-"
   },
   "source": [
    "##### Multiplicación:"
   ]
  },
  {
   "cell_type": "code",
   "execution_count": 43,
   "metadata": {
    "id": "TOJ5JfCJWQT-",
    "outputId": "4e366bbb-6a22-4bc9-aa78-017916e06920"
   },
   "outputs": [
    {
     "name": "stdout",
     "output_type": "stream",
     "text": [
      "Multiplicación y asignación: var  *=  8 --> 16\n"
     ]
    }
   ],
   "source": [
    "var = 2\n",
    "var  *=  8 \n",
    "print(\"Multiplicación y asignación: var  *=  8 --> {}\".format(var))"
   ]
  },
  {
   "attachments": {},
   "cell_type": "markdown",
   "metadata": {
    "id": "wCy3OaQ7WQT-"
   },
   "source": [
    "##### Exponenciación:"
   ]
  },
  {
   "cell_type": "code",
   "execution_count": 44,
   "metadata": {
    "id": "nQ_zW1moWQT-",
    "outputId": "8213e4fe-9792-4947-8937-b06e0f50a2ba"
   },
   "outputs": [
    {
     "name": "stdout",
     "output_type": "stream",
     "text": [
      "Exponenciación y asignación: var  **=  3 --> 8\n"
     ]
    }
   ],
   "source": [
    "var = 2\n",
    "var  **=  3 \n",
    "print(\"Exponenciación y asignación: var  **=  3 --> {}\".format(var))"
   ]
  },
  {
   "attachments": {},
   "cell_type": "markdown",
   "metadata": {
    "id": "Lf0sX-Z75Rfu"
   },
   "source": [
    "### 3.4 - Operadores lógicos\n",
    "\n",
    "Los operadores lógicos booleanos permiten agregar una lógica mas compleja a los programas\n",
    "\n",
    "- and\n",
    "\n",
    "<center>\n",
    "\n",
    "| In1| In2 | Out |\n",
    "| --- | --- | --- |\n",
    "| False | False | False |\n",
    "| False | True | False |\n",
    "| True | False | False |\n",
    "| True | True | True |\n",
    "\n",
    "</center>\n",
    "- or\n",
    "\n",
    "<center>\n",
    "\n",
    "| In1| In2 | Out |\n",
    "| --- | --- | --- |\n",
    "| False | False | False |\n",
    "| False | True | True |\n",
    "| True | False | True |\n",
    "| True | True | True |\n",
    "\n",
    "</center>\n",
    "\n",
    "- not\n",
    "\n",
    "<center>\n",
    "\n",
    "| In1| Out |\n",
    "| --- | --- |\n",
    "|False | True |\n",
    "|True | False |\n",
    "\n",
    "</center>"
   ]
  },
  {
   "attachments": {},
   "cell_type": "markdown",
   "metadata": {
    "id": "HejamFb1WQT-"
   },
   "source": [
    "#### AND:"
   ]
  },
  {
   "cell_type": "code",
   "execution_count": 45,
   "metadata": {
    "ExecuteTime": {
     "end_time": "2020-09-08T00:28:19.811386Z",
     "start_time": "2020-09-08T00:28:19.804288Z"
    },
    "id": "F2M1a4mZ5Rfv",
    "outputId": "14ef7005-b860-4938-9c85-06a143dc3409"
   },
   "outputs": [
    {
     "data": {
      "text/plain": [
       "False"
      ]
     },
     "execution_count": 45,
     "metadata": {},
     "output_type": "execute_result"
    }
   ],
   "source": [
    "1 > 2 and 3 == 3"
   ]
  },
  {
   "attachments": {},
   "cell_type": "markdown",
   "metadata": {
    "id": "wriK7-pDWQT-"
   },
   "source": [
    "#### OR:"
   ]
  },
  {
   "cell_type": "code",
   "execution_count": 46,
   "metadata": {
    "id": "vgMfFkFHWQT-",
    "outputId": "7ed2f29d-770c-4791-cbb5-063bd393023b"
   },
   "outputs": [
    {
     "data": {
      "text/plain": [
       "True"
      ]
     },
     "execution_count": 46,
     "metadata": {},
     "output_type": "execute_result"
    }
   ],
   "source": [
    "1 > 2 or 3 == 3"
   ]
  },
  {
   "attachments": {},
   "cell_type": "markdown",
   "metadata": {
    "id": "KyyTIcwbWQT_"
   },
   "source": [
    "#### NOT:"
   ]
  },
  {
   "cell_type": "code",
   "execution_count": 47,
   "metadata": {
    "id": "d9HcGvxoWQT_",
    "outputId": "15356678-500a-441b-a626-1a67aa808835"
   },
   "outputs": [
    {
     "data": {
      "text/plain": [
       "False"
      ]
     },
     "execution_count": 47,
     "metadata": {},
     "output_type": "execute_result"
    }
   ],
   "source": [
    "var = 2\n",
    "not var == 2"
   ]
  },
  {
   "attachments": {},
   "cell_type": "markdown",
   "metadata": {
    "id": "K9Vx3mu05Rfy"
   },
   "source": [
    "### 3.5 - Operadores de pertenencia\n",
    "\n",
    "Estos operadores se utilizan para determinar si un elemento se encuentra presente en una sequencia.\n",
    "\n",
    "#### In:"
   ]
  },
  {
   "cell_type": "code",
   "execution_count": 48,
   "metadata": {
    "ExecuteTime": {
     "end_time": "2020-09-08T00:38:30.344631Z",
     "start_time": "2020-09-08T00:38:30.321785Z"
    },
    "id": "BveDUJhh5Rfy",
    "outputId": "96abc037-d6c9-4bab-c8f2-e079544ff03e"
   },
   "outputs": [
    {
     "data": {
      "text/plain": [
       "True"
      ]
     },
     "execution_count": 48,
     "metadata": {},
     "output_type": "execute_result"
    }
   ],
   "source": [
    "1 in [ 4, 6, 1, 3, 0, 'list', 3.1]"
   ]
  },
  {
   "cell_type": "code",
   "execution_count": 49,
   "metadata": {
    "id": "4Y_T59o5WQT_",
    "outputId": "aefe641c-119a-4eee-cdbc-1ff429e63029"
   },
   "outputs": [
    {
     "data": {
      "text/plain": [
       "False"
      ]
     },
     "execution_count": 49,
     "metadata": {},
     "output_type": "execute_result"
    }
   ],
   "source": [
    "5 in [ 4, 6, 1, 3, 0, 'list', 3.1]"
   ]
  },
  {
   "attachments": {},
   "cell_type": "markdown",
   "metadata": {
    "id": "y-g5gf7-WQT_"
   },
   "source": [
    "Este operador tambien se puede utilizar para evaluar pertenencia en un string: "
   ]
  },
  {
   "cell_type": "code",
   "execution_count": 50,
   "metadata": {
    "id": "RDar7vMEWQT_",
    "outputId": "94b500aa-9083-4075-a58f-e9a243709646"
   },
   "outputs": [
    {
     "data": {
      "text/plain": [
       "True"
      ]
     },
     "execution_count": 50,
     "metadata": {},
     "output_type": "execute_result"
    }
   ],
   "source": [
    "'Python' in 'Esta es una introducción a Python'"
   ]
  },
  {
   "attachments": {},
   "cell_type": "markdown",
   "metadata": {
    "id": "4Lw6Ca_ZWQT_"
   },
   "source": [
    "#### Not in:"
   ]
  },
  {
   "cell_type": "code",
   "execution_count": 51,
   "metadata": {
    "id": "93kkOO3bWQT_",
    "outputId": "03cfdeee-c2b7-4569-90e4-7863cf7484f6"
   },
   "outputs": [
    {
     "data": {
      "text/plain": [
       "False"
      ]
     },
     "execution_count": 51,
     "metadata": {},
     "output_type": "execute_result"
    }
   ],
   "source": [
    "1 not in [ 4, 6, 1, 3, 0, 'list', 3.1]"
   ]
  },
  {
   "attachments": {},
   "cell_type": "markdown",
   "metadata": {
    "id": "40apO7k7WQT_"
   },
   "source": [
    "**Precaución con la precedencia de los operadores**\n",
    "\n",
    "<center>\n",
    "\n",
    "| Operators |\tMeaning |\n",
    "| --- | --- |\n",
    "| () |\tParentheses |\n",
    "| ** |\tExponent |\n",
    "| +x, -x, ~x |\tUnary plus, Unary minus, Bitwise NOT |\n",
    "| *, /, //, %\t| Multiplication, Division, Floor division, Modulus |\n",
    "| +, - |\tAddition, Subtraction |\n",
    "| <<, >> |\tBitwise shift operators |\n",
    "| & |\tBitwise AND |\n",
    "| ^ |\tBitwise XOR |\n",
    "| \\| |\tBitwise OR |\n",
    "| ==, !=, >, >=, <, <=, is, is not, in, not in |\tComparisons, Identity, Membership operators |\n",
    "| not |\tLogical NOT |\n",
    "| and |\tLogical AND |\n",
    "| or |\tLogical OR |\n",
    "\n",
    "</center>"
   ]
  },
  {
   "attachments": {},
   "cell_type": "markdown",
   "metadata": {
    "id": "JO8_ePIl5Rf3"
   },
   "source": [
    "## 4 - Estructuras\n",
    "\n",
    "### 4.1 - Tuplas\n",
    "\n",
    "Las tuplas son secuencias:\n",
    "- ordenadas\n",
    "- inmutables\n",
    "- permiten elementos duplicados\n",
    "\n",
    "Una variable inmutable no puede ser modificada. Es decir que son estáticos."
   ]
  },
  {
   "cell_type": "code",
   "execution_count": 52,
   "metadata": {
    "ExecuteTime": {
     "end_time": "2020-09-12T19:38:14.829817Z",
     "start_time": "2020-09-12T19:38:14.824971Z"
    },
    "id": "nD3Op3l_5Rf3",
    "outputId": "657e1c1b-ea95-4bff-f846-d191f7a4c4a9"
   },
   "outputs": [
    {
     "name": "stdout",
     "output_type": "stream",
     "text": [
      "La variable de tipo <class 'tuple'> contiene los siguientes elementos: (1, 2, 3, 4, 5)\n"
     ]
    }
   ],
   "source": [
    "tupla = (1 , 2 , 3 , 4, 5)\n",
    "\n",
    "print(\"La variable de tipo {} contiene los siguientes elementos: {}\".format(type(tupla), tupla))"
   ]
  },
  {
   "attachments": {},
   "cell_type": "markdown",
   "metadata": {
    "id": "BnIlAX6YWQUA"
   },
   "source": [
    "Para definir una tupla con un unico componente, es necesario definirlo de la siguiente manera:"
   ]
  },
  {
   "cell_type": "code",
   "execution_count": 53,
   "metadata": {
    "ExecuteTime": {
     "end_time": "2020-09-12T19:29:41.855487Z",
     "start_time": "2020-09-12T19:29:41.844197Z"
    },
    "id": "0O0h9Nvq5Rf5",
    "outputId": "df04980d-05c6-4409-cdfa-736c2a067571"
   },
   "outputs": [
    {
     "name": "stdout",
     "output_type": "stream",
     "text": [
      "<class 'int'>\n",
      "<class 'tuple'>\n"
     ]
    }
   ],
   "source": [
    "t1 = (1)\n",
    "t2 = (1, )\n",
    "print(type(t1))\n",
    "print(type(t2))"
   ]
  },
  {
   "attachments": {},
   "cell_type": "markdown",
   "metadata": {
    "id": "L0kf63BKWQUA"
   },
   "source": [
    "Acceso a los datos:"
   ]
  },
  {
   "cell_type": "code",
   "execution_count": 54,
   "metadata": {
    "id": "kvTu9jdl5Rf7",
    "outputId": "2b9d484b-1d5e-486c-f98c-b9260d233c4f"
   },
   "outputs": [
    {
     "name": "stdout",
     "output_type": "stream",
     "text": [
      "El primer componente de la tupla es: 1\n"
     ]
    }
   ],
   "source": [
    "print(\"El primer componente de la tupla es:\", tupla[0])"
   ]
  },
  {
   "attachments": {},
   "cell_type": "markdown",
   "metadata": {
    "id": "FZCehKWdWQUA"
   },
   "source": [
    "Se puede utilizar un indice negativo para contar desde el final de la lista:"
   ]
  },
  {
   "cell_type": "code",
   "execution_count": 55,
   "metadata": {
    "id": "9yBvnP1YWQUA",
    "outputId": "cf9e1027-75d1-45d2-a832-62e216ef95a4"
   },
   "outputs": [
    {
     "name": "stdout",
     "output_type": "stream",
     "text": [
      "El último componente de la tupla es: 5\n"
     ]
    }
   ],
   "source": [
    "print(\"El último componente de la tupla es:\", tupla[-1])"
   ]
  },
  {
   "attachments": {},
   "cell_type": "markdown",
   "metadata": {
    "id": "I5rLixxr5Rf9"
   },
   "source": [
    "Una forma muy utilizada de acceder a datos se conoce como *slicing*. \n",
    "Consiste en determinar la posición inicial y final de la sublista de la siguiente forma: \n",
    "\n",
    "```Python\n",
    "tupla[desde:hasta+1:paso]\n",
    "````\n"
   ]
  },
  {
   "cell_type": "code",
   "execution_count": 56,
   "metadata": {
    "ExecuteTime": {
     "end_time": "2020-09-11T17:04:07.901520Z",
     "start_time": "2020-09-11T17:04:07.895512Z"
    },
    "id": "-goiKyd-5Rf9",
    "outputId": "3559e844-72f3-423b-c5c2-d1856cb94577"
   },
   "outputs": [
    {
     "name": "stdout",
     "output_type": "stream",
     "text": [
      "Desde el indice 3 hasta el indice 4: (4, 5)\n"
     ]
    }
   ],
   "source": [
    "print(\"Desde el indice 3 hasta el indice 4:\", tupla[3:5])"
   ]
  },
  {
   "cell_type": "code",
   "execution_count": 57,
   "metadata": {
    "id": "17l1U_XtWQUA",
    "outputId": "b3e41809-58a1-47a1-8ec8-0ddb7b0c5fe3"
   },
   "outputs": [
    {
     "name": "stdout",
     "output_type": "stream",
     "text": [
      "Desde el principio hasta la ante última posición con un paso de 2 elementos:\n",
      "(1, 3)\n"
     ]
    }
   ],
   "source": [
    "print(\"Desde el principio hasta la ante última posición con un paso de 2 elementos:\")\n",
    "print(tupla[:-1:2])"
   ]
  },
  {
   "attachments": {},
   "cell_type": "markdown",
   "metadata": {
    "id": "lwZevTWbWQUA"
   },
   "source": [
    "Las tuplas no permiten asignación:"
   ]
  },
  {
   "cell_type": "code",
   "execution_count": 58,
   "metadata": {
    "id": "fE5iQLdV5RgA",
    "outputId": "450d8c29-755a-42b7-99c1-d49d501fb7b4"
   },
   "outputs": [
    {
     "name": "stdout",
     "output_type": "stream",
     "text": [
      "'tuple' object does not support item assignment\n"
     ]
    }
   ],
   "source": [
    "try:\n",
    "    tupla[2] = 3\n",
    "except Exception as e:\n",
    "    print(e)"
   ]
  },
  {
   "attachments": {},
   "cell_type": "markdown",
   "metadata": {
    "id": "-B2qMbvE5RgC"
   },
   "source": [
    "### 4.2 - Listas\n",
    "Una lista es una estructura similar a las tuplas, con las siguientes características:\n",
    "- ordenada\n",
    "- mutable\n",
    "- permite elementos duplicados.\n",
    "\n",
    "La lista posee el mismo manejo de datos que las tuplas, pero se le agrega la posibilidad de asignación y modificación de elementos."
   ]
  },
  {
   "attachments": {},
   "cell_type": "markdown",
   "metadata": {
    "ExecuteTime": {
     "end_time": "2020-09-12T20:30:08.570464Z",
     "start_time": "2020-09-12T20:30:08.564361Z"
    },
    "id": "6a_luEfZ5RgD"
   },
   "source": [
    "#### Definición\n",
    "\n",
    "Las listas se pueden definir de varias maneras. La más usual es:"
   ]
  },
  {
   "cell_type": "code",
   "execution_count": 59,
   "metadata": {
    "ExecuteTime": {
     "end_time": "2020-09-12T23:18:14.453760Z",
     "start_time": "2020-09-12T23:18:14.439260Z"
    },
    "id": "v43TgZnO5RgD",
    "outputId": "5f3f55f4-03a5-43be-e8fe-db66d4f89f67"
   },
   "outputs": [
    {
     "data": {
      "text/plain": [
       "[1, 2, 3, 4, 5]"
      ]
     },
     "execution_count": 59,
     "metadata": {},
     "output_type": "execute_result"
    }
   ],
   "source": [
    "lista = [1 , 2 , 3 , 4, 5]\n",
    "lista"
   ]
  },
  {
   "attachments": {},
   "cell_type": "markdown",
   "metadata": {
    "id": "5mZcX19VWQUB"
   },
   "source": [
    "Se puede utilizar el constructor `list()`:"
   ]
  },
  {
   "cell_type": "code",
   "execution_count": 60,
   "metadata": {
    "id": "VpmDss9QWQUB",
    "outputId": "182bb0ac-f183-4ab3-851c-7a9cd4cc59db"
   },
   "outputs": [
    {
     "name": "stdout",
     "output_type": "stream",
     "text": [
      "l es una variable de tipo <class 'list'>, que contiene los elementos: [1, 2]\n"
     ]
    }
   ],
   "source": [
    "l = list((1, 2))\n",
    "print(\"l es una variable de tipo {}, que contiene los elementos: {}\".format(type(l), l))"
   ]
  },
  {
   "attachments": {},
   "cell_type": "markdown",
   "metadata": {
    "id": "nQaiF35uWQUB"
   },
   "source": [
    "Acceso a los datos:"
   ]
  },
  {
   "cell_type": "code",
   "execution_count": 61,
   "metadata": {
    "id": "EDh47DXHWQUB",
    "outputId": "50dc9b9f-ae96-4ad4-a312-ae524cd09e7c"
   },
   "outputs": [
    {
     "name": "stdout",
     "output_type": "stream",
     "text": [
      "El segundo componente de la lista es: 2\n"
     ]
    }
   ],
   "source": [
    "print(\"El segundo componente de la lista es:\", lista[1])"
   ]
  },
  {
   "attachments": {},
   "cell_type": "markdown",
   "metadata": {
    "id": "hy69PyrXWQUB"
   },
   "source": [
    "Se puede utilizar un indice negativo para contar desde el final de la lista:"
   ]
  },
  {
   "cell_type": "code",
   "execution_count": 62,
   "metadata": {
    "id": "qlcn06EcWQUB",
    "outputId": "10c69a82-d4ab-45e0-ef06-e04c215a5efe"
   },
   "outputs": [
    {
     "name": "stdout",
     "output_type": "stream",
     "text": [
      "El último componente de la lista es: 5\n"
     ]
    }
   ],
   "source": [
    "print(\"El último componente de la lista es:\", lista[-1])"
   ]
  },
  {
   "attachments": {},
   "cell_type": "markdown",
   "metadata": {
    "id": "Gb-Uj5jo5RgF"
   },
   "source": [
    "Accedamos a los datos de la lista usando *slicing*. \n",
    "```Python\n",
    "lista[desde:hasta+1:paso]\n",
    "````"
   ]
  },
  {
   "cell_type": "code",
   "execution_count": 63,
   "metadata": {
    "ExecuteTime": {
     "end_time": "2020-09-08T02:52:24.510106Z",
     "start_time": "2020-09-08T02:52:24.497779Z"
    },
    "id": "odgKSA8h5RgH",
    "outputId": "21a45d4e-fa3e-429a-d897-749e581f22c4"
   },
   "outputs": [
    {
     "name": "stdout",
     "output_type": "stream",
     "text": [
      "Desde el indice 2 hasta el indice 3: [3, 4]\n",
      "Desde el principio hasta la ante última posición: [1, 2, 3, 4]\n"
     ]
    }
   ],
   "source": [
    "print(\"Desde el indice 2 hasta el indice 3: {}\".format(lista[2:4]))\n",
    "print(\"Desde el principio hasta la ante última posición: {}\".format(lista[:-1]))"
   ]
  },
  {
   "attachments": {},
   "cell_type": "markdown",
   "metadata": {
    "id": "pR1e12tE5RgN"
   },
   "source": [
    "Python permite utilizar operadores de pertenencia sobre listas. Esta es la forma más usual de realizar un control de flujo."
   ]
  },
  {
   "cell_type": "code",
   "execution_count": 64,
   "metadata": {
    "id": "yrZz_Zn75RgQ",
    "outputId": "887d7d50-8026-4cee-b78c-e95858f8e4f2"
   },
   "outputs": [
    {
     "name": "stdout",
     "output_type": "stream",
     "text": [
      "El elemento el2 pertenece a la lista l\n"
     ]
    }
   ],
   "source": [
    "l = [\"el1\", \"el2\", \"el3\", \"el4\", \"el5\", \"el6\", \"el7\", \"el8\"]\n",
    "el = \"el2\"\n",
    "if el in l:\n",
    "    print(\"El elemento {} pertenece a la lista l\".format(el))\n",
    "else:\n",
    "    print(\"El elemento {} no pertenece a la lista l\".format(el))"
   ]
  },
  {
   "attachments": {},
   "cell_type": "markdown",
   "metadata": {
    "id": "AkPFx5W65RgW"
   },
   "source": [
    "#### Manejo de datos\n",
    "\n",
    "Las operaciones básicas de manejo de elementos son:\n",
    "\n",
    "- agregar elementos\n",
    "- eliminar elementos\n",
    "- ordenar elementos\n",
    "    "
   ]
  },
  {
   "cell_type": "code",
   "execution_count": 65,
   "metadata": {
    "ExecuteTime": {
     "end_time": "2020-09-10T22:24:11.679902Z",
     "start_time": "2020-09-10T22:24:11.661295Z"
    },
    "id": "EMfpUhzN5RgX",
    "outputId": "89218aaa-41dd-4c45-a01d-a491535e61d1"
   },
   "outputs": [
    {
     "data": {
      "text/plain": [
       "[1, 2, 3, 4, 5, 6, 7, 8, 9, 10]"
      ]
     },
     "execution_count": 65,
     "metadata": {},
     "output_type": "execute_result"
    }
   ],
   "source": [
    "# Obtener elementos\n",
    "l1 = list(range(1,11)) # Crea una lista de 10 elementos con numeros enteros [1 a 10]\n",
    "l1"
   ]
  },
  {
   "attachments": {},
   "cell_type": "markdown",
   "metadata": {
    "id": "KyIJXvmxWQUC"
   },
   "source": [
    "#### Pop"
   ]
  },
  {
   "cell_type": "code",
   "execution_count": 66,
   "metadata": {
    "id": "Aelxydz_WQUC",
    "outputId": "b7ad5a36-c34b-4c14-8f5d-2a835839cf8f"
   },
   "outputs": [
    {
     "name": "stdout",
     "output_type": "stream",
     "text": [
      "3\n"
     ]
    },
    {
     "data": {
      "text/plain": [
       "[1, 2, 4, 5, 6, 7, 8, 9, 10]"
      ]
     },
     "execution_count": 66,
     "metadata": {},
     "output_type": "execute_result"
    }
   ],
   "source": [
    "# Se muestra el 3er componente de la lista y se elimina:\n",
    "print(l1.pop(2))\n",
    "l1[:]"
   ]
  },
  {
   "cell_type": "code",
   "execution_count": 67,
   "metadata": {
    "id": "PTJ0C7GeWQUC",
    "outputId": "6442d6bd-8ee1-49cd-e5f2-1811d20ce0a4"
   },
   "outputs": [
    {
     "name": "stdout",
     "output_type": "stream",
     "text": [
      "10\n"
     ]
    },
    {
     "data": {
      "text/plain": [
       "[1, 2, 4, 5, 6, 7, 8, 9]"
      ]
     },
     "execution_count": 67,
     "metadata": {},
     "output_type": "execute_result"
    }
   ],
   "source": [
    "# Se muestra el último componente de la lista y se elimina:\n",
    "print(l1.pop())\n",
    "l1"
   ]
  },
  {
   "cell_type": "code",
   "execution_count": 68,
   "metadata": {
    "id": "qfDE6NcBWQUC",
    "outputId": "85e1d0e0-3a79-46ce-ebe2-99ebece45b1e"
   },
   "outputs": [
    {
     "name": "stdout",
     "output_type": "stream",
     "text": [
      "8\n"
     ]
    },
    {
     "data": {
      "text/plain": [
       "[1, 2, 4, 5, 6, 7, 9]"
      ]
     },
     "execution_count": 68,
     "metadata": {},
     "output_type": "execute_result"
    }
   ],
   "source": [
    "# Se muestra el ante-último componente de la lista y se elimina\n",
    "print(l1.pop(-2))\n",
    "l1"
   ]
  },
  {
   "attachments": {},
   "cell_type": "markdown",
   "metadata": {
    "id": "A3Ito8DgWQUC"
   },
   "source": [
    "#### Agregar y modificar elementos:"
   ]
  },
  {
   "cell_type": "code",
   "execution_count": 69,
   "metadata": {
    "id": "ThFjf7NYWQUC",
    "outputId": "812d30fd-a5ed-43bc-ad5f-8916787ba87c"
   },
   "outputs": [
    {
     "data": {
      "text/plain": [
       "[1, 2, 3, 4, 5, 6, 7, 8, 9, 10]"
      ]
     },
     "execution_count": 69,
     "metadata": {},
     "output_type": "execute_result"
    }
   ],
   "source": [
    "l1 = list(range(1,11))\n",
    "l1"
   ]
  },
  {
   "cell_type": "code",
   "execution_count": 70,
   "metadata": {
    "id": "T-QGha2rWQUC",
    "outputId": "1e8dceeb-bdc0-42e5-8996-b23642dab8d7"
   },
   "outputs": [
    {
     "name": "stdout",
     "output_type": "stream",
     "text": [
      "Lista: [1, 2, 3, 8, 5, 6, 7, 8, 9, 10]\n"
     ]
    }
   ],
   "source": [
    "# Modificar el elemento en un indice:\n",
    "l1[3] += 4\n",
    "print(\"Lista: {}\".format(l1))"
   ]
  },
  {
   "cell_type": "code",
   "execution_count": 71,
   "metadata": {
    "id": "AljM-7AeWQUC",
    "outputId": "c7fbf7c1-6748-426f-8285-58415851bb87"
   },
   "outputs": [
    {
     "name": "stdout",
     "output_type": "stream",
     "text": [
      "list assignment index out of range\n"
     ]
    }
   ],
   "source": [
    "# No se pueden agregar elementos asignándolos, unicamente modificarlos:\n",
    "try:\n",
    "    l1[12] = 0\n",
    "except Exception as e:\n",
    "    print(e)"
   ]
  },
  {
   "cell_type": "code",
   "execution_count": 72,
   "metadata": {
    "id": "_Qi439K9WQUC",
    "outputId": "f00493ff-c5b2-47a0-ee0b-bad19e7a3d51"
   },
   "outputs": [
    {
     "data": {
      "text/plain": [
       "[1, 2, 'nuevo', 3, 8, 5, 6, 7, 8, 9, 10]"
      ]
     },
     "execution_count": 72,
     "metadata": {},
     "output_type": "execute_result"
    }
   ],
   "source": [
    "# Insert\n",
    "position = 2\n",
    "element = \"nuevo\"\n",
    "l1.insert(position, element)\n",
    "l1"
   ]
  },
  {
   "cell_type": "code",
   "execution_count": 73,
   "metadata": {
    "id": "HUFR0BxHWQUC",
    "outputId": "baaeab6f-9eb1-4dd1-ce9c-de1d10feeebc"
   },
   "outputs": [
    {
     "data": {
      "text/plain": [
       "[1, 2, 'nuevo', 3, 8, 5, 6, 7, 8, 9, 10, [1, 2]]"
      ]
     },
     "execution_count": 73,
     "metadata": {},
     "output_type": "execute_result"
    }
   ],
   "source": [
    "# Si la posicion es mayor a len(list),\n",
    "# se agrega el elemento en la ultima posicion de la lista:\n",
    "position = 15\n",
    "element = [1, 2]\n",
    "l1.insert(position, element)\n",
    "l1"
   ]
  },
  {
   "cell_type": "code",
   "execution_count": 74,
   "metadata": {
    "id": "MvTTJ7IJWQUC",
    "outputId": "2c1dbab7-5286-47ac-9018-99c0c1b73002"
   },
   "outputs": [
    {
     "data": {
      "text/plain": [
       "[1, 2, 'nuevo', 3, 8, 5, 6, 7, 8, 9, 10, [1, 2], 'elemento appendeado']"
      ]
     },
     "execution_count": 74,
     "metadata": {},
     "output_type": "execute_result"
    }
   ],
   "source": [
    "# Append: agrega un único elemento al final de la lista:\n",
    "\n",
    "element = \"elemento appendeado\"\n",
    "l1.append(element)\n",
    "l1"
   ]
  },
  {
   "cell_type": "code",
   "execution_count": 75,
   "metadata": {
    "ExecuteTime": {
     "end_time": "2020-09-11T00:23:56.670135Z",
     "start_time": "2020-09-11T00:23:56.650086Z"
    },
    "id": "Ek44_oZ-5RgZ",
    "outputId": "403b8503-689b-4426-ea92-ef57c9c99203"
   },
   "outputs": [
    {
     "data": {
      "text/plain": [
       "[1, 2, 'nuevo', 3, 8, 5, 6, 7, 8, 9, 10, [1, 2], 'elemento appendeado', 1, 2]"
      ]
     },
     "execution_count": 75,
     "metadata": {},
     "output_type": "execute_result"
    }
   ],
   "source": [
    "# Extend: agrega multiples elementos al final de una lista. \n",
    "elements = [1, 2]\n",
    "l1.extend(elements)\n",
    "l1"
   ]
  },
  {
   "attachments": {},
   "cell_type": "markdown",
   "metadata": {
    "id": "d_V5p3sEWQUD"
   },
   "source": [
    "#### Eliminacion de elementos"
   ]
  },
  {
   "cell_type": "code",
   "execution_count": 76,
   "metadata": {
    "id": "IBDFaZMCWQUD"
   },
   "outputs": [],
   "source": [
    "l1 = list(range(1,11))"
   ]
  },
  {
   "cell_type": "code",
   "execution_count": 77,
   "metadata": {
    "id": "3OQaZBZ1WQUD",
    "outputId": "d57c30c6-0ea3-4d78-be15-f8ef5b4bba99"
   },
   "outputs": [
    {
     "data": {
      "text/plain": [
       "[1, 2, 3, 4, 5, 6, 7, 8, 9, 10]"
      ]
     },
     "execution_count": 77,
     "metadata": {},
     "output_type": "execute_result"
    }
   ],
   "source": [
    "l1"
   ]
  },
  {
   "cell_type": "code",
   "execution_count": 78,
   "metadata": {
    "id": "vJZMkSfGWQUD",
    "outputId": "c4fae4ee-f4ac-4c72-97d4-956cbad58c9e"
   },
   "outputs": [
    {
     "data": {
      "text/plain": [
       "[1, 2, 3, 4, 6, 7, 8, 9, 10]"
      ]
     },
     "execution_count": 78,
     "metadata": {},
     "output_type": "execute_result"
    }
   ],
   "source": [
    "# remove\n",
    "l1.remove(5)\n",
    "l1"
   ]
  },
  {
   "cell_type": "code",
   "execution_count": 79,
   "metadata": {
    "id": "OCknKRa1WQUD",
    "outputId": "c3c4a2a5-d3e3-4057-b342-c312318daaef"
   },
   "outputs": [
    {
     "name": "stdout",
     "output_type": "stream",
     "text": [
      "list.remove(x): x not in list\n"
     ]
    }
   ],
   "source": [
    "# El elemento debe pertenecer a la lista\n",
    "try:\n",
    "    l1.remove(\"No Pertenece\")\n",
    "except Exception as e:\n",
    "    print(e)"
   ]
  },
  {
   "cell_type": "code",
   "execution_count": 80,
   "metadata": {
    "id": "lRMdW7_7WQUD",
    "outputId": "24225e0f-a6a7-4921-8b6f-1c7c66656dff"
   },
   "outputs": [
    {
     "data": {
      "text/plain": [
       "[1, 2, 4, 6, 7, 8, 9, 10]"
      ]
     },
     "execution_count": 80,
     "metadata": {},
     "output_type": "execute_result"
    }
   ],
   "source": [
    "#  del\n",
    "del l1[2]\n",
    "l1"
   ]
  },
  {
   "cell_type": "code",
   "execution_count": 81,
   "metadata": {
    "id": "xdTpEdKzWQUD",
    "outputId": "1477ebaa-6deb-4325-8423-3267e6623cf3"
   },
   "outputs": [
    {
     "data": {
      "text/plain": [
       "[1, 2, 8, 9, 10]"
      ]
     },
     "execution_count": 81,
     "metadata": {},
     "output_type": "execute_result"
    }
   ],
   "source": [
    "# Se pueden eliminar varios elementos utilizando slicing\n",
    "del l1[2:5]\n",
    "l1"
   ]
  },
  {
   "attachments": {},
   "cell_type": "markdown",
   "metadata": {
    "id": "Zs47NZ9nWQUD"
   },
   "source": [
    "#### Sort"
   ]
  },
  {
   "cell_type": "code",
   "execution_count": 82,
   "metadata": {
    "id": "B9dHZmSsWQUD",
    "outputId": "b6c5da74-dd0f-4b17-b0f7-95f078cdc8ab"
   },
   "outputs": [
    {
     "data": {
      "text/plain": [
       "[1, 2, 3, 4]"
      ]
     },
     "execution_count": 82,
     "metadata": {},
     "output_type": "execute_result"
    }
   ],
   "source": [
    "listaSort = [2,4,3,1]\n",
    "\n",
    "listaSort.sort()\n",
    "listaSort"
   ]
  },
  {
   "attachments": {},
   "cell_type": "markdown",
   "metadata": {
    "id": "iOT-NKqX5Rgi"
   },
   "source": [
    "### 4.3 - Diccionarios\n",
    "\n",
    "Los diccionarios son estructuras que almacenan colecciones de tipo clave-valor (key-value)\n",
    "\n",
    "Las principales características de los diccionarios son:\n",
    "- Estructura tipo key-value\n",
    "- Desordenado\n",
    "- mutable \n",
    "\n",
    "Los valores de las keys deben ser inmutables. Pueden ser tanto valores numéricos, strings, como tuplas.\n",
    "\n",
    "#### Definición"
   ]
  },
  {
   "cell_type": "code",
   "execution_count": 83,
   "metadata": {
    "ExecuteTime": {
     "end_time": "2020-09-12T22:39:53.448056Z",
     "start_time": "2020-09-12T22:39:53.415612Z"
    },
    "id": "9vh-2_wq5Rgj",
    "outputId": "a0019de5-2dd2-461b-ea8e-1d8f59c6eb2b"
   },
   "outputs": [
    {
     "name": "stdout",
     "output_type": "stream",
     "text": [
      "{'key1': 'value1', 2: [1, 2, 3]}\n"
     ]
    }
   ],
   "source": [
    "d1 = {'key1': 'value1', 2:[ 1, 2, 3]}\n",
    "print(d1)"
   ]
  },
  {
   "attachments": {},
   "cell_type": "markdown",
   "metadata": {
    "id": "IJMZnJOWWQUD"
   },
   "source": [
    "#### Asignación:"
   ]
  },
  {
   "cell_type": "code",
   "execution_count": 84,
   "metadata": {
    "id": "wNs4Dx5mWQUE",
    "outputId": "24213d2a-4383-43b0-8149-b29b5fa39989"
   },
   "outputs": [
    {
     "name": "stdout",
     "output_type": "stream",
     "text": [
      "{'key1': 'value1', 2: [1, 2, 3], 'newKey': 3.1415}\n"
     ]
    }
   ],
   "source": [
    "d1['newKey'] = 3.1415\n",
    "print(d1)"
   ]
  },
  {
   "attachments": {},
   "cell_type": "markdown",
   "metadata": {
    "id": "5nsDCeHwWQUE"
   },
   "source": [
    "#### Union de multiples diccionarios:"
   ]
  },
  {
   "cell_type": "code",
   "execution_count": 85,
   "metadata": {
    "id": "Mhyc5WCTWQUE",
    "outputId": "e515e6cd-659d-42f1-cf03-e568b9844d68"
   },
   "outputs": [
    {
     "name": "stdout",
     "output_type": "stream",
     "text": [
      "d2: {0: 4, 1: 3, 2: 2, 3: 1, 4: 0}\n",
      "d1: {'key1': 'value1', 2: 2, 'newKey': 3.1415, 0: 4, 1: 3, 3: 1, 4: 0}\n"
     ]
    }
   ],
   "source": [
    "d2 = dict(zip(range(5), reversed(range(5))))\n",
    "\n",
    "d1.update(d2)\n",
    "\n",
    "print('d2: {}'.format(d2))\n",
    "print('d1: {}'.format(d1))"
   ]
  },
  {
   "cell_type": "code",
   "execution_count": 86,
   "metadata": {
    "ExecuteTime": {
     "end_time": "2020-09-12T22:50:54.029420Z",
     "start_time": "2020-09-12T22:50:54.015312Z"
    },
    "id": "E2uLPqLX5Rgk",
    "outputId": "fed9f603-1c50-45ec-9089-81f193bdc36f"
   },
   "outputs": [
    {
     "name": "stdout",
     "output_type": "stream",
     "text": [
      "(1, 6)\n",
      "(2, 5)\n",
      "(3, 4)\n"
     ]
    }
   ],
   "source": [
    "# La función zip une los elementos de 2 listas en forma de tuplas. \n",
    "# Es necesario que ambas listas tengan el mismo largo\n",
    "l1 = [1, 2, 3]\n",
    "l2 = [6, 5, 4]\n",
    "\n",
    "for element in zip( l1, l2):\n",
    "    print(element)"
   ]
  },
  {
   "attachments": {},
   "cell_type": "markdown",
   "metadata": {
    "id": "BTUqOrut5Rgn"
   },
   "source": [
    "#### Manejo de datos\n",
    "\n",
    "El acceso a los elementos es similar al de las listas. Las claves se consideran como indices."
   ]
  },
  {
   "cell_type": "code",
   "execution_count": 87,
   "metadata": {
    "ExecuteTime": {
     "end_time": "2020-09-12T22:18:34.571468Z",
     "start_time": "2020-09-12T22:18:34.559558Z"
    },
    "id": "G6rIy5Pd5Rgo",
    "outputId": "84ce40fd-1893-4006-f8ad-8cf97352cd45"
   },
   "outputs": [
    {
     "name": "stdout",
     "output_type": "stream",
     "text": [
      "El valor almacenado en key1 es: value1\n"
     ]
    }
   ],
   "source": [
    "key = 'key1'\n",
    "try:\n",
    "    print(\"El valor almacenado en {} es: {}\".format(key, d1[key]))\n",
    "except Exception as e:\n",
    "    print(\"No se encuentra {} en las keys: {}\".format(key, d1.keys()))"
   ]
  },
  {
   "attachments": {},
   "cell_type": "markdown",
   "metadata": {
    "id": "FYqRYekx5Rgq"
   },
   "source": [
    "La eliminación de registros se puede hacer mediante las funciones *del* y *pop*"
   ]
  },
  {
   "cell_type": "code",
   "execution_count": 88,
   "metadata": {
    "ExecuteTime": {
     "end_time": "2020-09-12T22:59:36.725367Z",
     "start_time": "2020-09-12T22:59:36.715121Z"
    },
    "id": "1Wfnv18i5Rgq",
    "outputId": "c705292f-81ac-408c-e7a3-492f5d37eefc"
   },
   "outputs": [
    {
     "name": "stdout",
     "output_type": "stream",
     "text": [
      "d1: {'key1': 'value1', 2: 2, 'newKey': 3.1415, 0: 4, 1: 3, 3: 1, 4: 0, 'newElem': 'Elem'}\n",
      "r: Elem\n",
      "d1: {'key1': 'value1', 2: 2, 'newKey': 3.1415, 0: 4, 1: 3, 3: 1, 4: 0}\n"
     ]
    }
   ],
   "source": [
    "d1['newElem'] = 'Elem'\n",
    "print('d1:', d1)\n",
    "r = d1.pop('newElem')\n",
    "print('r:', r)\n",
    "print('d1:', d1)"
   ]
  },
  {
   "cell_type": "code",
   "execution_count": 89,
   "metadata": {
    "ExecuteTime": {
     "end_time": "2020-09-12T23:13:34.232954Z",
     "start_time": "2020-09-12T23:13:34.223490Z"
    },
    "id": "02rdwVWq5Rgt",
    "outputId": "f9ec57f7-1023-46a3-aab1-7159f6fd1208"
   },
   "outputs": [
    {
     "name": "stdout",
     "output_type": "stream",
     "text": [
      "No Encontrado!\n"
     ]
    }
   ],
   "source": [
    "# En caso de no encontrar el elemento, se puede retornar un valor por defecto\n",
    "\n",
    "r = d1.get('KEY', \"No Encontrado!\")\n",
    "\n",
    "print(r)"
   ]
  },
  {
   "attachments": {},
   "cell_type": "markdown",
   "metadata": {
    "id": "bNG50Wj3WQUE"
   },
   "source": [
    "### 4.4 - Las variables en Python\n",
    "\n",
    "Analicemos las siguientes líneas de código:"
   ]
  },
  {
   "cell_type": "code",
   "execution_count": 90,
   "metadata": {
    "id": "m-rFAyACWQUF"
   },
   "outputs": [],
   "source": [
    "a = [1, 2, 3]\n",
    "b = a "
   ]
  },
  {
   "attachments": {},
   "cell_type": "markdown",
   "metadata": {
    "id": "eKFJALdKWQUF"
   },
   "source": [
    "En algunos lenguajes, esta asignación provocaría que los datos [1, 2, 3] se copien. En Python, a y b se refieren ahora al mismo objeto, la lista original [1, 2, 3]\n",
    "    <img src=img/ref_lista.png width=\"400\">\n",
    "\n",
    "Podemos corroborar esto, agregando un elemento al final de la lista a y luego examinando b:"
   ]
  },
  {
   "cell_type": "code",
   "execution_count": 91,
   "metadata": {
    "id": "319fsHjDWQUF",
    "outputId": "8d1eb6b0-0b22-4dc1-d298-f8413d6bc2fa"
   },
   "outputs": [
    {
     "data": {
      "text/plain": [
       "[1, 2, 3, 4]"
      ]
     },
     "execution_count": 91,
     "metadata": {},
     "output_type": "execute_result"
    }
   ],
   "source": [
    "a.append(4)\n",
    "b"
   ]
  },
  {
   "cell_type": "code",
   "execution_count": 92,
   "metadata": {
    "id": "6qysMFqkWQUF",
    "outputId": "e182f5d6-e3d0-4b60-ec12-29779fd8f32a"
   },
   "outputs": [
    {
     "data": {
      "text/plain": [
       "[1, 2, 3, 4]"
      ]
     },
     "execution_count": 92,
     "metadata": {},
     "output_type": "execute_result"
    }
   ],
   "source": [
    "a"
   ]
  },
  {
   "attachments": {},
   "cell_type": "markdown",
   "metadata": {
    "id": "C5-607mWWQUF"
   },
   "source": [
    "#### copy y deepcopy\n",
    "\n",
    "Para que una variable haga referencia a los datos y no a la memoria, tenemos que realizarlo de forma explicita al momento de crear la nueva variable con el método copy()."
   ]
  },
  {
   "cell_type": "code",
   "execution_count": 93,
   "metadata": {
    "id": "RbVUYeKQWQUF",
    "outputId": "8bf7791b-0953-4095-a796-748856834b8a"
   },
   "outputs": [
    {
     "data": {
      "text/plain": [
       "[1, 2, 3, 4]"
      ]
     },
     "execution_count": 93,
     "metadata": {},
     "output_type": "execute_result"
    }
   ],
   "source": [
    "from copy import copy\n",
    "\n",
    "c = copy(a)\n",
    "\n",
    "a.append(5)\n",
    "\n",
    "c"
   ]
  },
  {
   "attachments": {},
   "cell_type": "markdown",
   "metadata": {
    "id": "dquKPt-AWQUF"
   },
   "source": [
    "Existen situaciones donde las variables almacenan estructuras complejas. En esos casos `copy` unicamente realiza una copia de la variable y el contenido de la estructura la referencia."
   ]
  },
  {
   "cell_type": "code",
   "execution_count": 94,
   "metadata": {
    "id": "M3zBnwspWQUF",
    "outputId": "2c786327-06b9-460b-abe7-845ad0b386d6"
   },
   "outputs": [
    {
     "name": "stdout",
     "output_type": "stream",
     "text": [
      "lista original : [2, 2, [6, 5], 4]\n",
      "lista copy : [1, 2, [6, 5], 4]\n",
      "lista deepcopy : [1, 2, [3, 5], 4]\n"
     ]
    }
   ],
   "source": [
    "from copy import deepcopy\n",
    "\n",
    "# initializamos la lista 1  \n",
    "l1 = [1, 2, [3,5], 4] \n",
    "\n",
    "# Hacemos una copia de l1:\n",
    "l2 = copy(l1) \n",
    "\n",
    "# Hacemos una deep copy de l1:\n",
    "l3 = deepcopy(l1) \n",
    "\n",
    "# Modificamos algunos valores de l1:\n",
    "l1[0] = 2\n",
    "l1[2][0] = 6\n",
    "\n",
    "# Mostramos por pantalla a las diferentes listas para evaluar los resultados:\n",
    "print(\"lista original : {}\".format(l1))\n",
    "print(\"lista copy : {}\".format(l2))\n",
    "print(\"lista deepcopy : {}\".format(l3))"
   ]
  },
  {
   "attachments": {},
   "cell_type": "markdown",
   "metadata": {
    "id": "1KmNjyFdWQUF"
   },
   "source": [
    "Se puede ver que la lista creada con copy no varia los componentes de tipo simple, pero sí la lista almacenada en la posición 2.\n",
    "\n",
    "Deepcopy no tiene este problema ya que realiza una copia recursiva de toda la estructura."
   ]
  },
  {
   "attachments": {},
   "cell_type": "markdown",
   "metadata": {
    "id": "FnFneIlGWQUF"
   },
   "source": [
    "#### Los integer de Python:\n",
    "\n",
    "<img src=\"img/python_integer.png\" width=\"450\">\n",
    "\n",
    "Cada objeto de Python es simplemente una estructura C que contiene no sólo su valor, sino también otra información. Por ejemplo el int 1, tendría la estructura:\n",
    "\n",
    "```C\n",
    "struct _longobject {\n",
    "    long ob_refcnt;\n",
    "    PyTypeObject *ob_type;\n",
    "    size_t ob_size;\n",
    "    long ob_digit[1];\n",
    "};\n",
    "```\n",
    "\n",
    "- `ob_refcnt`: un conteo de referencias que ayuda a Python a manejar silenciosamente la asignación y desasignación de memoria\n",
    "- `ob_type`: codifica el tipo de la variable\n",
    "- `ob_size`: especifica el tamaño de los siguientes miembros de datos\n",
    "- `ob_digit`: contiene el valor entero real que esperamos que represente la variable de Python.\n",
    "\n",
    "En la imagen vemos que `PyObject_HEAD` corresponde a toda la parte de la estructura que no corresponde al valor del entero.\n",
    "\n",
    "[referencia](https://jakevdp.github.io/PythonDataScienceHandbook/02.01-understanding-data-types.html)"
   ]
  },
  {
   "attachments": {},
   "cell_type": "markdown",
   "metadata": {
    "id": "oGOY9dVeWQUF"
   },
   "source": [
    "#### Las listas de Python:\n",
    "\n",
    "<img src=\"img/python_list.png\" width=\"500\">\n",
    "\n",
    "Para permitir estos tipos flexibles, cada elemento de la lista debe contener su propia información de tipo, número de referencias y otra información, es decir, cada elemento es un objeto Python completo.\n",
    "\n",
    "La lista de Python contiene un puntero a un bloque de punteros, cada uno de los cuales apunta a su vez a un objeto completo de Python como el entero de Python que vimos antes. De nuevo, la ventaja de la lista es la flexibilidad: como cada elemento de la lista es una estructura completa que contiene tanto datos como información de tipo, la lista puede llenarse con datos de cualquier tipo deseado."
   ]
  },
  {
   "attachments": {},
   "cell_type": "markdown",
   "metadata": {
    "id": "_TnDFDxC5Rgw"
   },
   "source": [
    "## 5 - Control de flujo\n",
    "\n",
    "Python permite agregarle lógica a los programas y funciones mediante loops y condicionales"
   ]
  },
  {
   "attachments": {},
   "cell_type": "markdown",
   "metadata": {
    "id": "nDxWacXj5Rgx"
   },
   "source": [
    "### 5.1 - Condicionales\n",
    "\n",
    "Un condicional permite ejecutar distintas partes de código en función de valores **lógicos**.\n",
    "\n",
    "#### if - else\n",
    "Este condicional evalua el valor lógico de una sentencia y determina el código que se ejecuta.\n"
   ]
  },
  {
   "cell_type": "code",
   "execution_count": 95,
   "metadata": {
    "ExecuteTime": {
     "end_time": "2020-09-13T02:33:08.365054Z",
     "start_time": "2020-09-13T02:33:08.358914Z"
    },
    "id": "va1fh2R65Rgx",
    "outputId": "c696c9ea-bd37-4429-f433-a47db17193ee"
   },
   "outputs": [
    {
     "name": "stdout",
     "output_type": "stream",
     "text": [
      "La sentencia es verdadera\n"
     ]
    }
   ],
   "source": [
    "boolean = True # False\n",
    "\n",
    "if boolean:\n",
    "    print(\"La sentencia es verdadera\")\n",
    "else:\n",
    "    print(\"la sentencia es falsa\")"
   ]
  },
  {
   "attachments": {},
   "cell_type": "markdown",
   "metadata": {
    "id": "9yby5mEo5Rg2"
   },
   "source": [
    "Es posible dividir el flujo en mas de dos ramas, utilizando la palabra clave **elif**"
   ]
  },
  {
   "cell_type": "code",
   "execution_count": 96,
   "metadata": {
    "ExecuteTime": {
     "end_time": "2020-09-13T03:53:07.761773Z",
     "start_time": "2020-09-13T03:53:07.749994Z"
    },
    "id": "JXr-lqmI5Rg2",
    "outputId": "30f791c7-5c77-46bc-cd2a-180c205003b7"
   },
   "outputs": [
    {
     "name": "stdout",
     "output_type": "stream",
     "text": [
      "opción por defecto\n"
     ]
    }
   ],
   "source": [
    "num = 20\n",
    "\n",
    "if 4 < num < 10:\n",
    "    print(\"opción 1\")\n",
    "elif num < 4:\n",
    "    print(\"opcion 2\")\n",
    "else:\n",
    "    print(\"opción por defecto\")"
   ]
  },
  {
   "attachments": {},
   "cell_type": "markdown",
   "metadata": {
    "id": "gUO5SdIa5Rg6"
   },
   "source": [
    "### 5.2 - Ciclos\n",
    "\n",
    "Los ciclos permiten ejecutar bloques de código multiples veces, haciendo que el código sea legible y compacto.\n",
    "\n",
    "#### for\n",
    "\n",
    "Este ciclo realiza una cantidad fija de repeticiones. La cantidad de iteraciones es determinada por un iterador. Un iterador es un tipo de dato que posee multiples elementos por los cuales se puede iterar en un orden.\n",
    "Los ejemplos más comunes son repetir una candidad *N* de veces un bloque de código o para cada componente en una sequencia ejecutar ciertos comandos.\n",
    "\n",
    "A continuación se muestran un par de ejemplos:\n"
   ]
  },
  {
   "cell_type": "code",
   "execution_count": 97,
   "metadata": {
    "ExecuteTime": {
     "end_time": "2020-09-13T04:16:54.956276Z",
     "start_time": "2020-09-13T04:16:54.945881Z"
    },
    "id": "KA6-eF4c5Rg7",
    "outputId": "28b2269f-cec6-46b9-9f8c-3b235259643e"
   },
   "outputs": [
    {
     "name": "stdout",
     "output_type": "stream",
     "text": [
      "Loop número 1.\n",
      "Loop número 2.\n",
      "Loop número 3.\n",
      "Loop número 4.\n",
      "Loop número 5.\n"
     ]
    }
   ],
   "source": [
    "for i in range(5): # Se realizan 5 repeticiones\n",
    "    print(\"Loop número {}.\".format(i+1))"
   ]
  },
  {
   "cell_type": "code",
   "execution_count": 98,
   "metadata": {
    "id": "PMtNltUdWQUG",
    "outputId": "020bd4c6-dce9-4b65-d842-c6dd441cb7b7"
   },
   "outputs": [
    {
     "name": "stdout",
     "output_type": "stream",
     "text": [
      "La fruta seleccionada es: Manzana\n",
      "La fruta seleccionada es: Banana\n",
      "La fruta seleccionada es: Naranja\n"
     ]
    }
   ],
   "source": [
    "for fruit in ['Manzana', 'Banana', 'Naranja']: # Para cada elemento de la lista\n",
    "    print(\"La fruta seleccionada es: {}\".format(fruit))"
   ]
  },
  {
   "attachments": {},
   "cell_type": "markdown",
   "metadata": {
    "id": "YVB1OzXr5Rg9"
   },
   "source": [
    "#### while\n",
    "\n",
    "Este bucle se ejecutará siempre y cuando se cumpla alguna condición."
   ]
  },
  {
   "cell_type": "code",
   "execution_count": 99,
   "metadata": {
    "ExecuteTime": {
     "end_time": "2020-09-13T04:16:32.233383Z",
     "start_time": "2020-09-13T04:16:32.220270Z"
    },
    "id": "9x28sHJP5Rg9",
    "outputId": "f4cf41ad-0897-49c5-92a2-c594c2609e7c"
   },
   "outputs": [
    {
     "name": "stdout",
     "output_type": "stream",
     "text": [
      "1\n",
      "2\n",
      "3\n",
      "4\n",
      "5\n",
      "Loop finalizado\n"
     ]
    }
   ],
   "source": [
    "i = 1\n",
    "while i < 6:\n",
    "    print(i)\n",
    "    i += 1\n",
    "else: \n",
    "    print(\"Loop finalizado\")"
   ]
  },
  {
   "attachments": {},
   "cell_type": "markdown",
   "metadata": {
    "id": "9dgRNGKY5Rg_"
   },
   "source": [
    "Tanto en los loops *for* y *while* existe la posibilidad de ejecutar un bloque de código luego de finalizar el bucle, utilizando la palabra clave **else**.\n",
    "Esto se suele utilizar para realizar tareas posteriores al loop.\n",
    "Por ejemplo en el bucle se leen las tablas de una base de datos (DB) y posteriormente se cierran las conexiones."
   ]
  },
  {
   "attachments": {},
   "cell_type": "markdown",
   "metadata": {
    "id": "nLNPyHl45Rg_"
   },
   "source": [
    "#### Condiciones de corte\n",
    "\n",
    "Python permite más funcionalidades a la hora de realizar control de flujo.\n",
    "A continuación veremos el comportamiento de las keywords **break** y **continue**\n",
    "- break: El interprete sale del bucle cuando lee esta palabra clave y continua con la ejecucion del programa.\n",
    "- continue: El interprete intenta ejecutar el próximo bucle del ciclo"
   ]
  },
  {
   "cell_type": "code",
   "execution_count": 100,
   "metadata": {
    "ExecuteTime": {
     "end_time": "2020-09-13T04:22:55.422240Z",
     "start_time": "2020-09-13T04:22:55.416431Z"
    },
    "id": "tYSVgPcl5RhA",
    "outputId": "331646e4-452b-4403-fe7e-472a75810c0b"
   },
   "outputs": [
    {
     "name": "stdout",
     "output_type": "stream",
     "text": [
      "1\n",
      "2\n",
      "3\n"
     ]
    }
   ],
   "source": [
    "i = 1\n",
    "while i < 6:\n",
    "    print(i)\n",
    "    if i == 3:\n",
    "        break\n",
    "    i += 1"
   ]
  },
  {
   "cell_type": "code",
   "execution_count": 101,
   "metadata": {
    "ExecuteTime": {
     "end_time": "2020-09-13T04:23:16.587297Z",
     "start_time": "2020-09-13T04:23:16.574757Z"
    },
    "id": "Se00axzQ5RhC",
    "outputId": "9cf02848-7ce9-479e-bd58-db5e73f8c903"
   },
   "outputs": [
    {
     "name": "stdout",
     "output_type": "stream",
     "text": [
      "1\n",
      "2\n",
      "4\n",
      "5\n",
      "6\n"
     ]
    }
   ],
   "source": [
    "i = 0\n",
    "while i < 6:\n",
    "    i += 1\n",
    "    if i == 3:\n",
    "        continue\n",
    "    print(i)"
   ]
  },
  {
   "attachments": {},
   "cell_type": "markdown",
   "metadata": {
    "id": "jN0Ql6Id5RhE"
   },
   "source": [
    "#### Iteradores\n",
    "Los iteradores de código son los objetos por los cuales se utilizan los bucles.\n",
    "Python da la posibilidad de crear iteradores personalizados.\n",
    "En esta clase se verá una leve introducción que se profundira en el proximo encuentro.\n",
    "\n",
    "Para utilizar un iterador, es necesario conocer las funciones **iter()** y **next()**\n",
    "- iter: Permite crear un iterador básico en función de un tipo de dato sequencial (lista, tupla, diccionario).\n",
    "- next: Devuelve el siguiente elemento del iterador.\n",
    "\n",
    "A continuación se muestra un ejemplo"
   ]
  },
  {
   "cell_type": "code",
   "execution_count": 102,
   "metadata": {
    "ExecuteTime": {
     "end_time": "2020-09-13T04:28:52.285106Z",
     "start_time": "2020-09-13T04:28:52.279866Z"
    },
    "id": "bFLv6htK5RhE",
    "outputId": "3e9dd5eb-0c78-48de-cf3b-88051bb78738"
   },
   "outputs": [
    {
     "name": "stdout",
     "output_type": "stream",
     "text": [
      "Manzana\n",
      "Banana\n",
      "Naranja\n"
     ]
    }
   ],
   "source": [
    "tupla = (\"Manzana\", \"Banana\", \"Naranja\")\n",
    "iterador = iter(tupla)\n",
    "\n",
    "print(next(iterador))\n",
    "print(next(iterador))\n",
    "print(next(iterador))"
   ]
  },
  {
   "attachments": {},
   "cell_type": "markdown",
   "metadata": {
    "id": "tme706LGWQUH"
   },
   "source": [
    "## 6 - Funciones de secuencia incorporadas\n",
    "\n",
    "### 6.1 -  `Enumerate`\n",
    "\n",
    "`enumerate` lleva el \"registro\" del índice de cada elemento de la lista.\n",
    "\n",
    "La función `enumerate()` devuelve un objeto de la clase `enumerate` que contiene tuplas que aparejan cada elemento con su respectivo índice."
   ]
  },
  {
   "cell_type": "code",
   "execution_count": 103,
   "metadata": {
    "id": "rr0wtV5bWQUH",
    "outputId": "c711e128-3080-4581-f6d2-20edaa049c52"
   },
   "outputs": [
    {
     "data": {
      "text/plain": [
       "<enumerate at 0x105dab680>"
      ]
     },
     "execution_count": 103,
     "metadata": {},
     "output_type": "execute_result"
    }
   ],
   "source": [
    "a = ['a','b','c','d']\n",
    "\n",
    "enumerate(a)"
   ]
  },
  {
   "cell_type": "code",
   "execution_count": 104,
   "metadata": {
    "id": "CmR60LtnWQUH",
    "outputId": "b07408f9-56c9-4b75-c686-1334ef09e8cf"
   },
   "outputs": [
    {
     "data": {
      "text/plain": [
       "[(0, 'a'), (1, 'b'), (2, 'c'), (3, 'd')]"
      ]
     },
     "execution_count": 104,
     "metadata": {},
     "output_type": "execute_result"
    }
   ],
   "source": [
    "enumerated = []\n",
    "\n",
    "for i in enumerate(a):\n",
    "    enumerated.append(i)\n",
    "\n",
    "enumerated"
   ]
  },
  {
   "attachments": {},
   "cell_type": "markdown",
   "metadata": {
    "id": "3lKpqb79WQUH"
   },
   "source": [
    "Alternativa obteniendo por separado lo elementos de la tupla:"
   ]
  },
  {
   "cell_type": "code",
   "execution_count": 105,
   "metadata": {
    "id": "UmQUcgtjWQUH",
    "outputId": "51d79cf3-7636-4876-f8da-1a9fca4832f5"
   },
   "outputs": [
    {
     "name": "stdout",
     "output_type": "stream",
     "text": [
      "La letra en la posición 1 es a\n",
      "La letra en la posición 2 es b\n",
      "La letra en la posición 3 es c\n",
      "La letra en la posición 4 es d\n"
     ]
    }
   ],
   "source": [
    "for i, e in enumerate(a):\n",
    "    print('La letra en la posición {} es {}'.format(i+1,e))"
   ]
  },
  {
   "attachments": {},
   "cell_type": "markdown",
   "metadata": {
    "id": "FLv0Ev30WQUH"
   },
   "source": [
    "Nota sobre unpacking de tuplas y listas:"
   ]
  },
  {
   "cell_type": "code",
   "execution_count": 106,
   "metadata": {
    "id": "pQQDpnEdWQUH"
   },
   "outputs": [],
   "source": [
    "tup = (1,2,3,4)"
   ]
  },
  {
   "cell_type": "code",
   "execution_count": 107,
   "metadata": {
    "id": "PyHNPZkzWQUH"
   },
   "outputs": [],
   "source": [
    "a, b, c, d = tup"
   ]
  },
  {
   "cell_type": "code",
   "execution_count": 108,
   "metadata": {
    "id": "gC0tRmHuWQUH",
    "outputId": "2530cd71-ca75-411b-d07d-0c00f275f5f9"
   },
   "outputs": [
    {
     "data": {
      "text/plain": [
       "1"
      ]
     },
     "execution_count": 108,
     "metadata": {},
     "output_type": "execute_result"
    }
   ],
   "source": [
    "a"
   ]
  },
  {
   "attachments": {},
   "cell_type": "markdown",
   "metadata": {
    "id": "raTGGzHPWQUH"
   },
   "source": [
    "### 6.2 -  `Zip`\n",
    "\n",
    "`zip` recorre cada elemento de dos listas de manera iterativa al mismo tiempo y combina cada fila de elementos en una tupla.\n",
    "\n",
    "La función `zip()` devuelve un objeto de la clase `zip` que contiene tuplas que aparejan los elementos que poseen el mismo índice."
   ]
  },
  {
   "cell_type": "code",
   "execution_count": 109,
   "metadata": {
    "id": "TJ41__4VWQUH",
    "outputId": "d0a118c8-56c3-4ae9-c029-bb334eb0ca1d"
   },
   "outputs": [
    {
     "data": {
      "text/plain": [
       "<zip at 0x105d5d300>"
      ]
     },
     "execution_count": 109,
     "metadata": {},
     "output_type": "execute_result"
    }
   ],
   "source": [
    "a = ['a','b','c','d']\n",
    "z = ['0','1','2','3']\n",
    "\n",
    "zip(a, z) "
   ]
  },
  {
   "cell_type": "code",
   "execution_count": 110,
   "metadata": {
    "id": "5Y47zQUHWQUH",
    "outputId": "508d1d89-0e60-4c4a-f149-abada11070f7"
   },
   "outputs": [
    {
     "data": {
      "text/plain": [
       "[('a', '0'), ('b', '1'), ('c', '2'), ('d', '3')]"
      ]
     },
     "execution_count": 110,
     "metadata": {},
     "output_type": "execute_result"
    }
   ],
   "source": [
    "zipped = []\n",
    "\n",
    "for x in zip(a, z):\n",
    "    zipped.append(x)\n",
    "\n",
    "zipped"
   ]
  },
  {
   "attachments": {},
   "cell_type": "markdown",
   "metadata": {
    "id": "AthYKUwIWQUH"
   },
   "source": [
    "## 7 -  Listas y diccionarios por comprensión\n",
    "\n",
    "Las **listas por comprensión** son una de las características más apreciadas de Python. Permiten formar concisamente una nueva lista filtrando los elementos de una colección, transformando los elementos que pasan el filtro en una expresión concisa.\n",
    "\n",
    "La sintáxis básica es la siguiente:\n",
    "\n",
    "```python\n",
    "[expresion for valor in coleccion if condicion]\n",
    "```\n",
    "\n",
    "Esto es equivalente al siguente bucle for:\n",
    "\n",
    "```python\n",
    "resultado = []\n",
    "\n",
    "for valor in coleccion:\n",
    "    if condicion:\n",
    "        resultado.append(expresion)\n",
    "```\n",
    "\n",
    "La condición de filtro puede ser omitida, dejando sólo la expresión.\n",
    "\n",
    "Por ejemplo, dada una lista de strings, podríamos filtrar los textos con 3 o menos caracteres y convertirlos en mayúscula de la siguiente manera:"
   ]
  },
  {
   "cell_type": "code",
   "execution_count": 111,
   "metadata": {
    "id": "cz1sW1nDWQUH",
    "outputId": "03f14957-f371-484d-aa16-84573a787b53"
   },
   "outputs": [
    {
     "data": {
      "text/plain": [
       "['INTRO', 'DATA', 'SCIENCE', 'PYTHON']"
      ]
     },
     "execution_count": 111,
     "metadata": {},
     "output_type": "execute_result"
    }
   ],
   "source": [
    "strings = ['intro', 'a', 'data', 'science', 'con', 'Python']\n",
    "\n",
    "[x.upper() for x in strings if len(x) > 3]"
   ]
  },
  {
   "attachments": {},
   "cell_type": "markdown",
   "metadata": {
    "id": "rAi8i4ftWQUH"
   },
   "source": [
    "##### Ejemplo usando enumerate y zip\n",
    "Para cada elemento de las dos siguientes listas, sumar ambos elementos y dividirlos por su posición en la lista, comenzando a contar desde 1.\n",
    "\n",
    "Por ejemplo, dadas estas dos listas:\n",
    "\n",
    "```python\n",
    "lista_1 = [2, 4, 6, 8, 10]\n",
    "lista_2 = [3, 6, 9, 12, 15]\n",
    "```\n",
    "\n",
    "Retornar:\n",
    "\n",
    "```python\n",
    "[5.0, 5.0, 5.0, 5.0, 5.0]\n",
    "```\n"
   ]
  },
  {
   "cell_type": "code",
   "execution_count": 112,
   "metadata": {
    "id": "imubqHVLWQUH"
   },
   "outputs": [],
   "source": [
    "lista_1 = [2, 4, 6, 8, 10]\n",
    "lista_2 = [3, 6, 9, 12, 15]"
   ]
  },
  {
   "cell_type": "code",
   "execution_count": 113,
   "metadata": {
    "id": "_yA-5VlNWQUI",
    "outputId": "6b049ba9-7d08-4e9e-9d4b-1ebf63150fc0"
   },
   "outputs": [
    {
     "data": {
      "text/plain": [
       "[5.0, 5.0, 5.0, 5.0, 5.0]"
      ]
     },
     "execution_count": 113,
     "metadata": {},
     "output_type": "execute_result"
    }
   ],
   "source": [
    "[(x+y)/(i+1) for i, (x,y) in enumerate(zip(lista_1, lista_2))]"
   ]
  },
  {
   "attachments": {},
   "cell_type": "markdown",
   "metadata": {
    "id": "bSkqg_oEWQUI"
   },
   "source": [
    "Los **diccionarios por comprensión** son una extensión natural, produciendo diccionarios de una manera similar a las listas por comprensión. Un **diccionario por comprensión** se ve así:\n",
    "\n",
    "```python\n",
    "dict_comp = {key_expr:valor_expr for valor in colección if condición}\n",
    "```           \n",
    "\n",
    "Veamos un ejemplo donde creamos un diccionario donde cada clave es el nombre de una especie animal y su valor es la longitud de ese nombre."
   ]
  },
  {
   "cell_type": "code",
   "execution_count": 114,
   "metadata": {
    "id": "DkV6mObcWQUI",
    "outputId": "78460aac-e18b-4506-d724-0ce63f05d445"
   },
   "outputs": [
    {
     "data": {
      "text/plain": [
       "{'dog': 3, 'cat': 3, 'bird': 4, 'horse': 5}"
      ]
     },
     "execution_count": 114,
     "metadata": {},
     "output_type": "execute_result"
    }
   ],
   "source": [
    "keys = ['dog', 'cat', 'bird', 'horse']\n",
    "dicc = {k:len(k) for k in keys}\n",
    "dicc"
   ]
  },
  {
   "attachments": {},
   "cell_type": "markdown",
   "metadata": {
    "id": "Eq7TeJ_pWQUI"
   },
   "source": [
    "Otro ejemplo, usando `zip`"
   ]
  },
  {
   "cell_type": "code",
   "execution_count": 115,
   "metadata": {
    "id": "nss2ShG1WQUI",
    "outputId": "c5095c29-f1ef-4e9e-e6ab-0180a850a282"
   },
   "outputs": [
    {
     "data": {
      "text/plain": [
       "{'height': [62, 54, 60, 50],\n",
       " 'weight': [180, 120, 200, 100],\n",
       " 'is_male': [True, False, True, False]}"
      ]
     },
     "execution_count": 115,
     "metadata": {},
     "output_type": "execute_result"
    }
   ],
   "source": [
    "column_names = ['height','weight','is_male']\n",
    "values = [[62, 54, 60, 50], [180, 120, 200, 100], [True, False, True, False]]\n",
    "\n",
    "dicc = {k:v for k, v in zip(column_names, values)}\n",
    "dicc"
   ]
  },
  {
   "attachments": {},
   "cell_type": "markdown",
   "metadata": {
    "id": "3psFWk3f5Rhh"
   },
   "source": [
    "<!-- <span style=\"font-size:1.5em\">Fin de la clase.</span> -->\n",
    "\n",
    "<span style=\"font-size:2em\">¡Muchas gracias por su atención!</span>"
   ]
  }
 ],
 "metadata": {
  "colab": {
   "provenance": []
  },
  "kernelspec": {
   "display_name": "Python 3",
   "language": "python",
   "name": "python3"
  },
  "language_info": {
   "codemirror_mode": {
    "name": "ipython",
    "version": 3
   },
   "file_extension": ".py",
   "mimetype": "text/x-python",
   "name": "python",
   "nbconvert_exporter": "python",
   "pygments_lexer": "ipython3",
   "version": "3.11.3"
  },
  "toc": {
   "base_numbering": 1,
   "nav_menu": {},
   "number_sections": true,
   "sideBar": true,
   "skip_h1_title": false,
   "title_cell": "Table of Contents",
   "title_sidebar": "Contents",
   "toc_cell": false,
   "toc_position": {
    "height": "calc(100% - 180px)",
    "left": "10px",
    "top": "150px",
    "width": "324.746px"
   },
   "toc_section_display": true,
   "toc_window_display": true
  }
 },
 "nbformat": 4,
 "nbformat_minor": 1
}
