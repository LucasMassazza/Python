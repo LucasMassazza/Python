{
 "cells": [
  {
   "cell_type": "markdown",
   "metadata": {},
   "source": [
    "# Programación para el Análisis de Datos\n",
    "\n",
    "### Clase 1 - Fundamentos de programación en Python - ejercicios \n",
    "\n",
    "## Ejercicios"
   ]
  },
  {
   "cell_type": "markdown",
   "metadata": {},
   "source": [
    "### Ejercicio 1\n",
    "\n",
    "Dados 2 números enteros, imprimir por pantalla el producto.\n",
    "Si el producto de ambos numeros es mayor a 100, mostrar además la suma de los numeros.\n",
    "\n",
    "Se puede utilizar el siguiente código para mostrar por pantalla\n",
    "``` python\n",
    "print(\"El producto entre {} y {} es: {}\".format(n1, n2, prod))\n",
    "print(\"La suma entre {} y {} es: {}\".format(n1, n2, suma))\n",
    "```"
   ]
  },
  {
   "cell_type": "code",
   "execution_count": null,
   "metadata": {},
   "outputs": [],
   "source": [
    "n1 = 1\n",
    "n2 = 2\n",
    "\n",
    "## Completar con código\n",
    "\n",
    "##"
   ]
  },
  {
   "cell_type": "markdown",
   "metadata": {},
   "source": [
    "### Ejercicio 2\n",
    "\n",
    "Dada una lista de números, se pide iterar los elementos de la lista y almacenar en otra lista el resultado de sumar ese elemento con el anterior.\n",
    "\n",
    "Por ejemplo, dada la lista: `[1, 2, 3, 4]`, se espera que la salida sea una lista con los elementos `[3, 5, 7]`\n",
    "\n",
    "Resolver el problema de dos maneras diferentes: con un for loop y con una lista por comprensión.\n",
    "\n",
    "**Pistas**:\n",
    "- Iterar la lista, elemento por elemento\n",
    "- Utilizar variables auxiliares para almacenar información"
   ]
  },
  {
   "cell_type": "code",
   "execution_count": null,
   "metadata": {},
   "outputs": [],
   "source": [
    "l_in = [1, 2, 3, 4]\n",
    "\n",
    "\n",
    "## Completar con código\n",
    "\n",
    "##\n"
   ]
  },
  {
   "cell_type": "markdown",
   "metadata": {},
   "source": [
    "### Ejercicio 3\n",
    "\n",
    "Dado un string, mostrar por pantalla unicamente las vocales en formato Mayuscula\n",
    "\n",
    "Por ejemplo, el string `\"Este es un string de prueba\"` obtendra como output `['E', 'E', 'E', 'U', 'I', 'E', 'U', 'E', 'A']`\n",
    "\n",
    "Resolver el problema de dos maneras diferentes: con un for loop y con una lista por comprensión.\n",
    "\n",
    "**Pistas:**\n",
    "- Utilizar funciones propias de strings como `upper`, `lower`\n"
   ]
  },
  {
   "cell_type": "code",
   "execution_count": null,
   "metadata": {},
   "outputs": [],
   "source": [
    "string = 'Nullam suscipit imperdiet libero at euismod'\n",
    "\n",
    "vocales = ['a','e','i','o','u']\n",
    "\n",
    "\n",
    "## Completar con código\n",
    "\n",
    "##\n"
   ]
  },
  {
   "cell_type": "markdown",
   "metadata": {},
   "source": [
    "### Ejercicio 4\n",
    "\n",
    "Dada una lista de numeros, genere una lista con todos los múltiplos de 7.\n",
    "\n",
    "Por ejemplo, para la lista `[1, 2, 7, 10, 21]`, se muestran por pantalla los numeros `7` y `21`\n",
    "\n",
    "Resolver el problema de dos maneras diferentes: con un for loop y con una lista por comprensión."
   ]
  },
  {
   "cell_type": "code",
   "execution_count": null,
   "metadata": {},
   "outputs": [],
   "source": [
    "l_in = [85, 21, 29, 37, 50, 53,  7, 26, 26, 97, 20, 29, 96, 27, 63, 96, 68,\n",
    "       60, 47, 18,  3, 34, 63, 48, 16, 43, 91, 29, 92, 45,  5, 98, 36, 23,\n",
    "       92, 45, 52, 94, 98, 59, 96, 62, 84, 31, 86, 32, 66, 17, 24, 94, 53,\n",
    "       57, 66, 45, 23, 31, 46, 85, 22, 65, 26,  1, 89, 16, 32,  8, 42, 47,\n",
    "       38, 92, 41, 25, 98, 49, 24, 23, 12, 59,  6, 56, 35, 44, 19, 64,  7,\n",
    "       15, 13, 75, 86, 14, 91, 97, 65, 31, 86, 62, 85, 50, 24, 57]\n",
    "\n",
    "\n",
    "## Completar con código\n",
    "\n",
    "##\n"
   ]
  },
  {
   "cell_type": "markdown",
   "metadata": {},
   "source": [
    "### Ejercicio 5\n",
    "\n",
    "Contar cuántos elementos de la lista cumplen con alguna de las siguientes condiciones:\n",
    "\n",
    "- El elemento es un carácter en minúscula y es alfanumérico\n",
    "- Es un número entero par\n",
    "``` python\n",
    "lista = ['a', 2, 5, 'B', 9, 'd', 4, 'o', 7, '%', 3.1, '&']\n",
    "```\n",
    "\n",
    "Pista:\n",
    "- analizar la función `isinstance()`"
   ]
  },
  {
   "cell_type": "code",
   "execution_count": null,
   "metadata": {},
   "outputs": [],
   "source": [
    "lista = ['a', 2, 5, 'B', 9, 'd', 4, 'o', 7, '%', 3.1, '&']\n",
    "\n",
    "## Completar con código\n",
    "\n",
    "##"
   ]
  },
  {
   "cell_type": "markdown",
   "metadata": {},
   "source": [
    "### Ejercicio 6\n",
    "\n",
    "Obtener el módulo entre el máximo y el mínimo de la siguiente lista.\n",
    "```\n",
    "lista = [893, 755, 708, 746, 801, 581, 187, 688, 492, 579, 469, 195, 918, 667, 7, 15, 212, 114, 635, 331]\n",
    "```\n",
    "\n",
    "`result= 918%7 = 1`\n",
    "\n",
    "Resuelvan el ejercicio de dos formas diferentes: utilizando sin usar las funciones `max()` y `min()` y utilizándolas."
   ]
  },
  {
   "cell_type": "code",
   "execution_count": null,
   "metadata": {},
   "outputs": [],
   "source": [
    "lista = [893, 755, 708, 746, 801, 581, 187, 688, 492, 579, 469, 195, 918, 667, 7, 15, 212, 114, 635, 331]\n",
    "\n",
    "## Completar con código\n",
    "\n",
    "##"
   ]
  },
  {
   "cell_type": "markdown",
   "metadata": {},
   "source": [
    "### Ejercicio 7\n",
    "A partir de la siguiente lista de alumnos, obtener el nombre del alumno con mayor nota.\n"
   ]
  },
  {
   "cell_type": "code",
   "execution_count": null,
   "metadata": {},
   "outputs": [],
   "source": [
    "alumnos={\n",
    "  \"Shelby Snider\": 6,\n",
    "  \"Barlow Hammond\": 5,\n",
    "  \"Jennifer Simon\": 7,\n",
    "  \"Hollie Abbott\": 2,\n",
    "  \"Vinson Garcia\": 7,\n",
    "  \"Savannah Nunez\": 10,\n",
    "}\n",
    "\n",
    "## Completar con código\n",
    "\n",
    "###"
   ]
  }
 ],
 "metadata": {
  "kernelspec": {
   "display_name": "Python 3 (ipykernel)",
   "language": "python",
   "name": "python3"
  },
  "language_info": {
   "codemirror_mode": {
    "name": "ipython",
    "version": 3
   },
   "file_extension": ".py",
   "mimetype": "text/x-python",
   "name": "python",
   "nbconvert_exporter": "python",
   "pygments_lexer": "ipython3",
   "version": "3.9.12"
  }
 },
 "nbformat": 4,
 "nbformat_minor": 4
}
