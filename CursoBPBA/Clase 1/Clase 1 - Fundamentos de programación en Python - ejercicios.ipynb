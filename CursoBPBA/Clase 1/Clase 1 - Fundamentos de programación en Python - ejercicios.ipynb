{
 "cells": [
  {
   "attachments": {},
   "cell_type": "markdown",
   "metadata": {},
   "source": [
    "# Programación para el Análisis de Datos\n",
    "\n",
    "### Clase 1 - Fundamentos de programación en Python - ejercicios \n",
    "\n",
    "## Ejercicios"
   ]
  },
  {
   "attachments": {},
   "cell_type": "markdown",
   "metadata": {},
   "source": [
    "### Ejercicio 1\n",
    "\n",
    "Dados 2 números enteros, imprimir por pantalla el producto.\n",
    "Si el producto de ambos numeros es mayor a 100, mostrar además la suma de los numeros.\n",
    "\n",
    "Se puede utilizar el siguiente código para mostrar por pantalla\n",
    "``` python\n",
    "print(\"El producto entre {} y {} es: {}\".format(n1, n2, prod))\n",
    "print(\"La suma entre {} y {} es: {}\".format(n1, n2, suma))\n",
    "```"
   ]
  },
  {
   "cell_type": "code",
   "execution_count": 51,
   "metadata": {},
   "outputs": [
    {
     "name": "stdout",
     "output_type": "stream",
     "text": [
      "El producto de 10 y 10 es: 100\n",
      "La suma es 20\n"
     ]
    }
   ],
   "source": [
    "import Solucion\n",
    "\n",
    "n1 = 10\n",
    "n2 = 10\n",
    "\n",
    "producto=n1*n2\n",
    "    \n",
    "\n",
    "if producto>100:\n",
    "    print(f\"El producto de {n1} y {n2} es: {producto}\")\n",
    "else:\n",
    "    suma=n1+n2\n",
    "    print(f\"El producto de {n1} y {n2} es: {producto}\\nLa suma es {suma}\")"
   ]
  },
  {
   "attachments": {},
   "cell_type": "markdown",
   "metadata": {},
   "source": [
    "### Ejercicio 2\n",
    "\n",
    "Dada una lista de números, se pide iterar los elementos de la lista y almacenar en otra lista el resultado de sumar ese elemento con el anterior.\n",
    "\n",
    "Por ejemplo, dada la lista: `[1, 2, 3, 4]`, se espera que la salida sea una lista con los elementos `[3, 5, 7]`\n",
    "\n",
    "Resolver el problema de dos maneras diferentes: con un for loop y con una lista por comprensión.\n",
    "\n",
    "**Pistas**:\n",
    "- Iterar la lista, elemento por elemento\n",
    "- Utilizar variables auxiliares para almacenar información"
   ]
  },
  {
   "cell_type": "code",
   "execution_count": 49,
   "metadata": {},
   "outputs": [
    {
     "name": "stdout",
     "output_type": "stream",
     "text": [
      "[56, 87, 563]\n"
     ]
    }
   ],
   "source": [
    "Lista = [540, 23, 33, 54]\n",
    "\n",
    "\n",
    "\n",
    "ListaSum = []\n",
    "Indice = 0\n",
    "\n",
    "\n",
    "for vocales in range(0, len(Lista)-1):\n",
    "        \n",
    "        IndGuia = Indice+1\n",
    "        ListaSum.append(Lista[Indice]+Lista[IndGuia])\n",
    "        Indice = Indice+1 \n",
    "\n",
    "ListaSum.sort()\n",
    "print(ListaSum)\n",
    "\n"
   ]
  },
  {
   "attachments": {},
   "cell_type": "markdown",
   "metadata": {},
   "source": [
    "### Ejercicio 3\n",
    "\n",
    "Dado un string, mostrar por pantalla unicamente las vocales en formato Mayuscula\n",
    "\n",
    "Por ejemplo, el string `\"Este es un string de prueba\"` obtendra como output `['E', 'E', 'E', 'U', 'I', 'E', 'U', 'E', 'A']`\n",
    "\n",
    "Resolver el problema de dos maneras diferentes: con un for loop y con una lista por comprensión.\n",
    "\n",
    "**Pistas:**\n",
    "- Utilizar funciones propias de strings como `upper`, `lower`\n"
   ]
  },
  {
   "cell_type": "code",
   "execution_count": 50,
   "metadata": {},
   "outputs": [],
   "source": [
    "import Solucion\n",
    "\n",
    "\n",
    "## Completar con código\n",
    "\n",
    "##\n"
   ]
  },
  {
   "attachments": {},
   "cell_type": "markdown",
   "metadata": {},
   "source": [
    "### Ejercicio 4\n",
    "\n",
    "Dada una lista de numeros, genere una lista con todos los múltiplos de 7.\n",
    "\n",
    "Por ejemplo, para la lista `[1, 2, 7, 10, 21]`, se muestran por pantalla los numeros `7` y `21`\n",
    "\n",
    "Resolver el problema de dos maneras diferentes: con un for loop y con una lista por comprensión."
   ]
  },
  {
   "cell_type": "code",
   "execution_count": 63,
   "metadata": {},
   "outputs": [
    {
     "name": "stdout",
     "output_type": "stream",
     "text": [
      "[20, 80, 60, 30, 50]\n"
     ]
    },
    {
     "data": {
      "text/plain": [
       "[20, 30, 50, 60, 80]"
      ]
     },
     "execution_count": 63,
     "metadata": {},
     "output_type": "execute_result"
    }
   ],
   "source": [
    "\n",
    "import random\n",
    "\n",
    "Divisor = 10\n",
    "\n",
    "numeros = [random.randrange(1,100) for n in range (100)]\n",
    "multiplos = [multiplo for multiplo in numeros if multiplo % Divisor == 0]\n",
    "multiplosFiltrador = []\n",
    "\n",
    "for x in range(len(multiplos)):\n",
    "    if multiplos[x] not in multiplosFiltrador:\n",
    "        multiplosFiltrador.append(multiplos[x])\n",
    "\n",
    "print(multiplos)\n",
    "multiplosFiltrador.sort()\n",
    "multiplosFiltrador\n",
    "\n",
    "\n",
    "\n"
   ]
  },
  {
   "attachments": {},
   "cell_type": "markdown",
   "metadata": {},
   "source": [
    "### Ejercicio 5\n",
    "\n",
    "Contar cuántos elementos de la lista cumplen con alguna de las siguientes condiciones:\n",
    "\n",
    "- El elemento es un carácter en minúscula y es alfanumérico\n",
    "- Es un número entero par\n",
    "``` python\n",
    "lista = ['a', 2, 5, 'B', 9, 'd', 4, 'o', 7, '%', 3.1, '&']\n",
    "```\n",
    "\n",
    "Pista:\n",
    "- analizar la función `isinstance()`"
   ]
  },
  {
   "cell_type": "code",
   "execution_count": null,
   "metadata": {},
   "outputs": [],
   "source": [
    "lista = ['a', 2, 5, 'B', 9, 'd', 4, 'o', 7, '%', 3.1, '&']\n",
    "\n",
    "## Completar con código\n",
    "\n",
    "##"
   ]
  },
  {
   "attachments": {},
   "cell_type": "markdown",
   "metadata": {},
   "source": [
    "### Ejercicio 6\n",
    "\n",
    "Obtener el módulo entre el máximo y el mínimo de la siguiente lista.\n",
    "```\n",
    "lista = [893, 755, 708, 746, 801, 581, 187, 688, 492, 579, 469, 195, 918, 667, 7, 15, 212, 114, 635, 331]\n",
    "```\n",
    "\n",
    "`result= 918%7 = 1`\n",
    "\n",
    "Resuelvan el ejercicio de dos formas diferentes: utilizando sin usar las funciones `max()` y `min()` y utilizándolas."
   ]
  },
  {
   "cell_type": "code",
   "execution_count": null,
   "metadata": {},
   "outputs": [],
   "source": [
    "lista = [893, 755, 708, 746, 801, 581, 187, 688, 492, 579, 469, 195, 918, 667, 7, 15, 212, 114, 635, 331]\n",
    "\n",
    "## Completar con código\n",
    "\n",
    "##"
   ]
  },
  {
   "attachments": {},
   "cell_type": "markdown",
   "metadata": {},
   "source": [
    "### Ejercicio 7\n",
    "A partir de la siguiente lista de alumnos, obtener el nombre del alumno con mayor nota.\n"
   ]
  },
  {
   "cell_type": "code",
   "execution_count": null,
   "metadata": {},
   "outputs": [],
   "source": [
    "alumnos={\n",
    "  \"Shelby Snider\": 6,\n",
    "  \"Barlow Hammond\": 5,\n",
    "  \"Jennifer Simon\": 7,\n",
    "  \"Hollie Abbott\": 2,\n",
    "  \"Vinson Garcia\": 7,\n",
    "  \"Savannah Nunez\": 10,\n",
    "}\n",
    "\n",
    "## Completar con código\n",
    "\n",
    "###"
   ]
  }
 ],
 "metadata": {
  "kernelspec": {
   "display_name": "Python 3 (ipykernel)",
   "language": "python",
   "name": "python3"
  },
  "language_info": {
   "codemirror_mode": {
    "name": "ipython",
    "version": 3
   },
   "file_extension": ".py",
   "mimetype": "text/x-python",
   "name": "python",
   "nbconvert_exporter": "python",
   "pygments_lexer": "ipython3",
   "version": "3.11.3"
  }
 },
 "nbformat": 4,
 "nbformat_minor": 4
}
