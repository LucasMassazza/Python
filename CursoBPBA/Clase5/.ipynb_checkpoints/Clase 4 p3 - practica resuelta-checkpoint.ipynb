{
 "cells": [
  {
   "cell_type": "markdown",
   "metadata": {
    "id": "Eq7dWlnCTL-g"
   },
   "source": [
    "# Programación para el Análisis de Datos\n",
    "\n",
    "## Clase 4 - práctica resuelta\n"
   ]
  },
  {
   "cell_type": "code",
   "execution_count": 1,
   "metadata": {
    "id": "hG6jDMIgTL-h"
   },
   "outputs": [],
   "source": [
    "import numpy as np\n",
    "import pandas as pd"
   ]
  },
  {
   "cell_type": "markdown",
   "metadata": {
    "id": "9wEGDOZcTL-k"
   },
   "source": [
    "### Ejercicio 1\n",
    "\n",
    "\n",
    "* Crear un dataframe que contenga la siguiente información:\n",
    "\n",
    "\n",
    "|    |  Nombre             | Posición | Número\n",
    "|---:|:---------           | :----    |:----\n",
    "|  0 | Nery Pumpido        | ARQ      | 18\n",
    "|  1 | José Cuciuffo       | DEF      | 9\n",
    "|  2 | José Luis Brown     | DEF      | 5\n",
    "|  3 | Oscar Ruggeri       | DEF      | 19\n",
    "|  4 | Sergio Batista      | MED      | 2\n",
    "|  5 | Ricardo Giusti      | MED      | 14\n",
    "|  6 | Jorge Burruchaga    | MED      | 7\n",
    "|  7 | Héctor Enrique      | MED      | 12\n",
    "|  8 | Julio Olarticoechea | MED      | 16\n",
    "|  9 | Jorge Valdano       | DEL      | 11\n",
    "|  10| Diego Maradona      | DEL      | 10\n"
   ]
  },
  {
   "cell_type": "code",
   "execution_count": 2,
   "metadata": {
    "id": "rGD4GcGLTL-k",
    "outputId": "25c00f20-c967-46d9-d1de-e2e57b7dc041"
   },
   "outputs": [
    {
     "data": {
      "text/html": [
       "<div>\n",
       "<style scoped>\n",
       "    .dataframe tbody tr th:only-of-type {\n",
       "        vertical-align: middle;\n",
       "    }\n",
       "\n",
       "    .dataframe tbody tr th {\n",
       "        vertical-align: top;\n",
       "    }\n",
       "\n",
       "    .dataframe thead th {\n",
       "        text-align: right;\n",
       "    }\n",
       "</style>\n",
       "<table border=\"1\" class=\"dataframe\">\n",
       "  <thead>\n",
       "    <tr style=\"text-align: right;\">\n",
       "      <th></th>\n",
       "      <th>Nombre</th>\n",
       "      <th>Posición</th>\n",
       "      <th>Número</th>\n",
       "    </tr>\n",
       "  </thead>\n",
       "  <tbody>\n",
       "    <tr>\n",
       "      <th>0</th>\n",
       "      <td>Nery Pumpido</td>\n",
       "      <td>ARQ</td>\n",
       "      <td>18</td>\n",
       "    </tr>\n",
       "    <tr>\n",
       "      <th>1</th>\n",
       "      <td>José Cuciuffo</td>\n",
       "      <td>DEF</td>\n",
       "      <td>9</td>\n",
       "    </tr>\n",
       "    <tr>\n",
       "      <th>2</th>\n",
       "      <td>José Luis Brown</td>\n",
       "      <td>DEF</td>\n",
       "      <td>5</td>\n",
       "    </tr>\n",
       "    <tr>\n",
       "      <th>3</th>\n",
       "      <td>Oscar Ruggeri</td>\n",
       "      <td>DEF</td>\n",
       "      <td>19</td>\n",
       "    </tr>\n",
       "    <tr>\n",
       "      <th>4</th>\n",
       "      <td>Sergio Batista</td>\n",
       "      <td>MED</td>\n",
       "      <td>2</td>\n",
       "    </tr>\n",
       "    <tr>\n",
       "      <th>5</th>\n",
       "      <td>Ricardo Giusti</td>\n",
       "      <td>MED</td>\n",
       "      <td>14</td>\n",
       "    </tr>\n",
       "    <tr>\n",
       "      <th>6</th>\n",
       "      <td>Jorge Burruchaga</td>\n",
       "      <td>MED</td>\n",
       "      <td>7</td>\n",
       "    </tr>\n",
       "    <tr>\n",
       "      <th>7</th>\n",
       "      <td>Héctor Enrique</td>\n",
       "      <td>MED</td>\n",
       "      <td>12</td>\n",
       "    </tr>\n",
       "    <tr>\n",
       "      <th>8</th>\n",
       "      <td>Julio Olarticoechea</td>\n",
       "      <td>MED</td>\n",
       "      <td>16</td>\n",
       "    </tr>\n",
       "    <tr>\n",
       "      <th>9</th>\n",
       "      <td>Jorge Valdano</td>\n",
       "      <td>DEL</td>\n",
       "      <td>11</td>\n",
       "    </tr>\n",
       "    <tr>\n",
       "      <th>10</th>\n",
       "      <td>Diego Maradona</td>\n",
       "      <td>DEL</td>\n",
       "      <td>10</td>\n",
       "    </tr>\n",
       "  </tbody>\n",
       "</table>\n",
       "</div>"
      ],
      "text/plain": [
       "                 Nombre Posición  Número\n",
       "0          Nery Pumpido      ARQ      18\n",
       "1         José Cuciuffo      DEF       9\n",
       "2       José Luis Brown      DEF       5\n",
       "3         Oscar Ruggeri      DEF      19\n",
       "4        Sergio Batista      MED       2\n",
       "5        Ricardo Giusti      MED      14\n",
       "6      Jorge Burruchaga      MED       7\n",
       "7        Héctor Enrique      MED      12\n",
       "8   Julio Olarticoechea      MED      16\n",
       "9         Jorge Valdano      DEL      11\n",
       "10       Diego Maradona      DEL      10"
      ]
     },
     "execution_count": 2,
     "metadata": {},
     "output_type": "execute_result"
    }
   ],
   "source": [
    "### Completa con tu código aquí:\n",
    "\n",
    "nombres = ['Nery Pumpido', \n",
    "           'José Cuciuffo', \n",
    "           'José Luis Brown', \n",
    "           'Oscar Ruggeri', \n",
    "           'Sergio Batista', \n",
    "           'Ricardo Giusti', \n",
    "           'Jorge Burruchaga',\n",
    "           'Héctor Enrique',\n",
    "           'Julio Olarticoechea',\n",
    "           'Jorge Valdano', \n",
    "           'Diego Maradona']\n",
    "\n",
    "posiciones = ['ARQ',\n",
    "             'DEF',\n",
    "             'DEF',\n",
    "             'DEF', \n",
    "             'MED',\n",
    "             'MED',\n",
    "             'MED',\n",
    "             'MED',\n",
    "             'MED',\n",
    "             'DEL',\n",
    "             'DEL',              \n",
    "             ]\n",
    "\n",
    "camisetas = [18, 9, 5, 19, 2, 14, 7, 12, 16, 11, 10]\n",
    "\n",
    "\n",
    "dic = {'Nombre': nombres, 'Posición': posiciones, 'Número': camisetas}\n",
    "\n",
    "seleccion = pd.DataFrame(dic)\n",
    "seleccion"
   ]
  },
  {
   "cell_type": "markdown",
   "metadata": {
    "id": "6LdLE62jTL-k"
   },
   "source": [
    "### Ejercicio 2\n",
    "\n",
    "* A partir del dataframe creado, generar una serie con el nombre de los mediocampistas\n",
    "\n",
    "**Ayuda:** usar una máscara booleana"
   ]
  },
  {
   "cell_type": "code",
   "execution_count": 3,
   "metadata": {
    "id": "EOrragxNTL-l",
    "outputId": "7f1c3b92-cc48-42b5-9ff0-aebc3c8242da"
   },
   "outputs": [
    {
     "data": {
      "text/plain": [
       "4         Sergio Batista\n",
       "5         Ricardo Giusti\n",
       "6       Jorge Burruchaga\n",
       "7         Héctor Enrique\n",
       "8    Julio Olarticoechea\n",
       "Name: Nombre, dtype: object"
      ]
     },
     "execution_count": 3,
     "metadata": {},
     "output_type": "execute_result"
    }
   ],
   "source": [
    "### Completa con tu código aquí:\n",
    "\n",
    "seleccion.loc[seleccion['Posición']=='MED', 'Nombre']"
   ]
  },
  {
   "cell_type": "markdown",
   "metadata": {
    "id": "ETWuEr2STL-l"
   },
   "source": [
    "### Ejercicio 3\n",
    "\n",
    "* Mostrar un dataframe con el nombre y el número de todos los jugadores con número de camiseta par"
   ]
  },
  {
   "cell_type": "code",
   "execution_count": 4,
   "metadata": {
    "id": "Sv8iOmxFTL-l",
    "outputId": "88e398ca-e1b3-4d6d-b9a6-b7940256dde2"
   },
   "outputs": [
    {
     "data": {
      "text/html": [
       "<div>\n",
       "<style scoped>\n",
       "    .dataframe tbody tr th:only-of-type {\n",
       "        vertical-align: middle;\n",
       "    }\n",
       "\n",
       "    .dataframe tbody tr th {\n",
       "        vertical-align: top;\n",
       "    }\n",
       "\n",
       "    .dataframe thead th {\n",
       "        text-align: right;\n",
       "    }\n",
       "</style>\n",
       "<table border=\"1\" class=\"dataframe\">\n",
       "  <thead>\n",
       "    <tr style=\"text-align: right;\">\n",
       "      <th></th>\n",
       "      <th>Nombre</th>\n",
       "      <th>Número</th>\n",
       "    </tr>\n",
       "  </thead>\n",
       "  <tbody>\n",
       "    <tr>\n",
       "      <th>0</th>\n",
       "      <td>Nery Pumpido</td>\n",
       "      <td>18</td>\n",
       "    </tr>\n",
       "    <tr>\n",
       "      <th>4</th>\n",
       "      <td>Sergio Batista</td>\n",
       "      <td>2</td>\n",
       "    </tr>\n",
       "    <tr>\n",
       "      <th>5</th>\n",
       "      <td>Ricardo Giusti</td>\n",
       "      <td>14</td>\n",
       "    </tr>\n",
       "    <tr>\n",
       "      <th>7</th>\n",
       "      <td>Héctor Enrique</td>\n",
       "      <td>12</td>\n",
       "    </tr>\n",
       "    <tr>\n",
       "      <th>8</th>\n",
       "      <td>Julio Olarticoechea</td>\n",
       "      <td>16</td>\n",
       "    </tr>\n",
       "    <tr>\n",
       "      <th>10</th>\n",
       "      <td>Diego Maradona</td>\n",
       "      <td>10</td>\n",
       "    </tr>\n",
       "  </tbody>\n",
       "</table>\n",
       "</div>"
      ],
      "text/plain": [
       "                 Nombre  Número\n",
       "0          Nery Pumpido      18\n",
       "4        Sergio Batista       2\n",
       "5        Ricardo Giusti      14\n",
       "7        Héctor Enrique      12\n",
       "8   Julio Olarticoechea      16\n",
       "10       Diego Maradona      10"
      ]
     },
     "execution_count": 4,
     "metadata": {},
     "output_type": "execute_result"
    }
   ],
   "source": [
    "### Completa con tu código aquí:\n",
    "\n",
    "mask = seleccion['Número'] % 2 == 0\n",
    "seleccion.loc[mask, ['Nombre', 'Número']]"
   ]
  },
  {
   "cell_type": "markdown",
   "metadata": {
    "id": "TrSI1gOHTL-l"
   },
   "source": [
    "### Ejercicio 4\n",
    "\n",
    "* Importar con pandas el dataset **'data/US Presidential Election Results - ResultsByTurnout.csv'**\n",
    "\n",
    "\n",
    "* Mirar qué tipo de datos hay en cada columna y si hay valores nulos"
   ]
  },
  {
   "cell_type": "code",
   "execution_count": 5,
   "metadata": {
    "id": "txI5R0xRTL-l",
    "outputId": "67f9e86a-607d-4878-94d9-ecae1e2d80c1"
   },
   "outputs": [
    {
     "data": {
      "text/html": [
       "<div>\n",
       "<style scoped>\n",
       "    .dataframe tbody tr th:only-of-type {\n",
       "        vertical-align: middle;\n",
       "    }\n",
       "\n",
       "    .dataframe tbody tr th {\n",
       "        vertical-align: top;\n",
       "    }\n",
       "\n",
       "    .dataframe thead th {\n",
       "        text-align: right;\n",
       "    }\n",
       "</style>\n",
       "<table border=\"1\" class=\"dataframe\">\n",
       "  <thead>\n",
       "    <tr style=\"text-align: right;\">\n",
       "      <th></th>\n",
       "      <th>ElectionYear</th>\n",
       "      <th>Turnout(%)</th>\n",
       "      <th>TotalVotes</th>\n",
       "      <th>TotalElectoralVotes</th>\n",
       "      <th>ElectoralVotesToWin</th>\n",
       "    </tr>\n",
       "  </thead>\n",
       "  <tbody>\n",
       "    <tr>\n",
       "      <th>0</th>\n",
       "      <td>1788</td>\n",
       "      <td>11.6</td>\n",
       "      <td>39,624</td>\n",
       "      <td>69</td>\n",
       "      <td>35</td>\n",
       "    </tr>\n",
       "    <tr>\n",
       "      <th>1</th>\n",
       "      <td>1792</td>\n",
       "      <td>6.3</td>\n",
       "      <td>28,300</td>\n",
       "      <td>132</td>\n",
       "      <td>66</td>\n",
       "    </tr>\n",
       "    <tr>\n",
       "      <th>2</th>\n",
       "      <td>1796</td>\n",
       "      <td>20.1</td>\n",
       "      <td>66,841</td>\n",
       "      <td>138</td>\n",
       "      <td>69</td>\n",
       "    </tr>\n",
       "    <tr>\n",
       "      <th>3</th>\n",
       "      <td>1800</td>\n",
       "      <td>32.3</td>\n",
       "      <td>75,142</td>\n",
       "      <td>138</td>\n",
       "      <td>69</td>\n",
       "    </tr>\n",
       "    <tr>\n",
       "      <th>4</th>\n",
       "      <td>1804</td>\n",
       "      <td>23.8</td>\n",
       "      <td>143,029</td>\n",
       "      <td>176</td>\n",
       "      <td>88</td>\n",
       "    </tr>\n",
       "  </tbody>\n",
       "</table>\n",
       "</div>"
      ],
      "text/plain": [
       "   ElectionYear  Turnout(%) TotalVotes  TotalElectoralVotes  \\\n",
       "0          1788        11.6     39,624                   69   \n",
       "1          1792         6.3     28,300                  132   \n",
       "2          1796        20.1     66,841                  138   \n",
       "3          1800        32.3     75,142                  138   \n",
       "4          1804        23.8    143,029                  176   \n",
       "\n",
       "   ElectoralVotesToWin  \n",
       "0                   35  \n",
       "1                   66  \n",
       "2                   69  \n",
       "3                   69  \n",
       "4                   88  "
      ]
     },
     "execution_count": 5,
     "metadata": {},
     "output_type": "execute_result"
    }
   ],
   "source": [
    "### Completa con tu código aquí:\n",
    "\n",
    "df = pd.read_csv('data/US Presidential Election Results - ResultsByTurnout.csv')\n",
    "df.head()"
   ]
  },
  {
   "cell_type": "code",
   "execution_count": 6,
   "metadata": {
    "id": "ztpNJLNXTL-l",
    "outputId": "1994c362-70f2-46b4-b92e-6eb7a3f4b09e"
   },
   "outputs": [
    {
     "data": {
      "text/plain": [
       "(59, 5)"
      ]
     },
     "execution_count": 6,
     "metadata": {},
     "output_type": "execute_result"
    }
   ],
   "source": [
    "df.shape"
   ]
  },
  {
   "cell_type": "code",
   "execution_count": 7,
   "metadata": {
    "id": "6kEGphW8TL-l",
    "outputId": "dc87d5ac-cc8c-4c3b-b67c-3f137e31391a"
   },
   "outputs": [
    {
     "name": "stdout",
     "output_type": "stream",
     "text": [
      "<class 'pandas.core.frame.DataFrame'>\n",
      "RangeIndex: 59 entries, 0 to 58\n",
      "Data columns (total 5 columns):\n",
      " #   Column               Non-Null Count  Dtype  \n",
      "---  ------               --------------  -----  \n",
      " 0   ElectionYear         59 non-null     int64  \n",
      " 1   Turnout(%)           59 non-null     float64\n",
      " 2   TotalVotes           59 non-null     object \n",
      " 3   TotalElectoralVotes  59 non-null     int64  \n",
      " 4   ElectoralVotesToWin  59 non-null     int64  \n",
      "dtypes: float64(1), int64(3), object(1)\n",
      "memory usage: 2.4+ KB\n"
     ]
    }
   ],
   "source": [
    "df.info()"
   ]
  },
  {
   "cell_type": "markdown",
   "metadata": {
    "id": "rx_IiF2CTL-l"
   },
   "source": [
    "### Ejercicio 5\n",
    "\n",
    "* ¿En qué año se registró el mayor porcentaje de participación (Turnout)? ¿Y el mínimo?"
   ]
  },
  {
   "cell_type": "code",
   "execution_count": 8,
   "metadata": {
    "id": "RMJTr7ItTL-m",
    "outputId": "9fb37661-d2d3-4ab6-f068-fcd62a29bdda"
   },
   "outputs": [
    {
     "name": "stdout",
     "output_type": "stream",
     "text": [
      "Year with maximum turnout: 1876\n",
      "Year with minimum turnout: 1792\n"
     ]
    }
   ],
   "source": [
    "### Completa con tu código aquí:\n",
    "\n",
    "idx_max = df['Turnout(%)'].argmax()\n",
    "\n",
    "max_turnout_year = df.iloc[idx_max]['ElectionYear']\n",
    "\n",
    "print(f\"Year with maximum turnout: {max_turnout_year}\")\n",
    "\n",
    "min_turnout_year = df.iloc[df['Turnout(%)'].argmin()]['ElectionYear']\n",
    "print(f\"Year with minimum turnout: {min_turnout_year}\")"
   ]
  },
  {
   "cell_type": "markdown",
   "metadata": {
    "id": "umuBDzzPTL-m"
   },
   "source": [
    "### Ejercicio 6\n",
    "\n",
    "* Convertir la columna TotalVotes  que es de tipo 'object' a tipo numérico. Para ello es necesario eliminar las comas que indican miles. \n",
    "\n",
    "**Ayuda:** aplicar los métodos str.replace(...) y luego .astype(...) sobre la serie TotalVotes"
   ]
  },
  {
   "cell_type": "code",
   "execution_count": 9,
   "metadata": {
    "id": "GrVZTMY2TL-m",
    "outputId": "42a561b2-e217-44c6-d9fd-346edf7bf86b"
   },
   "outputs": [
    {
     "data": {
      "text/html": [
       "<div>\n",
       "<style scoped>\n",
       "    .dataframe tbody tr th:only-of-type {\n",
       "        vertical-align: middle;\n",
       "    }\n",
       "\n",
       "    .dataframe tbody tr th {\n",
       "        vertical-align: top;\n",
       "    }\n",
       "\n",
       "    .dataframe thead th {\n",
       "        text-align: right;\n",
       "    }\n",
       "</style>\n",
       "<table border=\"1\" class=\"dataframe\">\n",
       "  <thead>\n",
       "    <tr style=\"text-align: right;\">\n",
       "      <th></th>\n",
       "      <th>ElectionYear</th>\n",
       "      <th>Turnout(%)</th>\n",
       "      <th>TotalVotes</th>\n",
       "      <th>TotalElectoralVotes</th>\n",
       "      <th>ElectoralVotesToWin</th>\n",
       "    </tr>\n",
       "  </thead>\n",
       "  <tbody>\n",
       "    <tr>\n",
       "      <th>0</th>\n",
       "      <td>1788</td>\n",
       "      <td>11.6</td>\n",
       "      <td>39624</td>\n",
       "      <td>69</td>\n",
       "      <td>35</td>\n",
       "    </tr>\n",
       "    <tr>\n",
       "      <th>1</th>\n",
       "      <td>1792</td>\n",
       "      <td>6.3</td>\n",
       "      <td>28300</td>\n",
       "      <td>132</td>\n",
       "      <td>66</td>\n",
       "    </tr>\n",
       "    <tr>\n",
       "      <th>2</th>\n",
       "      <td>1796</td>\n",
       "      <td>20.1</td>\n",
       "      <td>66841</td>\n",
       "      <td>138</td>\n",
       "      <td>69</td>\n",
       "    </tr>\n",
       "  </tbody>\n",
       "</table>\n",
       "</div>"
      ],
      "text/plain": [
       "   ElectionYear  Turnout(%)  TotalVotes  TotalElectoralVotes  \\\n",
       "0          1788        11.6       39624                   69   \n",
       "1          1792         6.3       28300                  132   \n",
       "2          1796        20.1       66841                  138   \n",
       "\n",
       "   ElectoralVotesToWin  \n",
       "0                   35  \n",
       "1                   66  \n",
       "2                   69  "
      ]
     },
     "execution_count": 9,
     "metadata": {},
     "output_type": "execute_result"
    }
   ],
   "source": [
    "### Completa con tu código aquí:\n",
    "\n",
    "df['TotalVotes'] = df['TotalVotes'].str.replace(',','').astype(int)\n",
    "df.head(3)"
   ]
  },
  {
   "cell_type": "markdown",
   "metadata": {
    "id": "N-HskSyTTL-m"
   },
   "source": [
    "### Ejercicio 7\n",
    "\n",
    "* Generar una nueva columna que contenga la cantidad de gente empadronada (ElectoralRoll). Calcularlo a partir del número total de votos registrados (TotalVotes) y el porcentaje de participación (Turnout(%))"
   ]
  },
  {
   "cell_type": "code",
   "execution_count": 10,
   "metadata": {
    "id": "QO-w4ZbsTL-m",
    "outputId": "7f451d8c-8b67-481c-dcb3-5429b79b9625"
   },
   "outputs": [
    {
     "data": {
      "text/html": [
       "<div>\n",
       "<style scoped>\n",
       "    .dataframe tbody tr th:only-of-type {\n",
       "        vertical-align: middle;\n",
       "    }\n",
       "\n",
       "    .dataframe tbody tr th {\n",
       "        vertical-align: top;\n",
       "    }\n",
       "\n",
       "    .dataframe thead th {\n",
       "        text-align: right;\n",
       "    }\n",
       "</style>\n",
       "<table border=\"1\" class=\"dataframe\">\n",
       "  <thead>\n",
       "    <tr style=\"text-align: right;\">\n",
       "      <th></th>\n",
       "      <th>ElectionYear</th>\n",
       "      <th>Turnout(%)</th>\n",
       "      <th>TotalVotes</th>\n",
       "      <th>TotalElectoralVotes</th>\n",
       "      <th>ElectoralVotesToWin</th>\n",
       "      <th>ElectoralRoll</th>\n",
       "    </tr>\n",
       "  </thead>\n",
       "  <tbody>\n",
       "    <tr>\n",
       "      <th>0</th>\n",
       "      <td>1788</td>\n",
       "      <td>11.6</td>\n",
       "      <td>39624</td>\n",
       "      <td>69</td>\n",
       "      <td>35</td>\n",
       "      <td>341586.206897</td>\n",
       "    </tr>\n",
       "    <tr>\n",
       "      <th>1</th>\n",
       "      <td>1792</td>\n",
       "      <td>6.3</td>\n",
       "      <td>28300</td>\n",
       "      <td>132</td>\n",
       "      <td>66</td>\n",
       "      <td>449206.349206</td>\n",
       "    </tr>\n",
       "    <tr>\n",
       "      <th>2</th>\n",
       "      <td>1796</td>\n",
       "      <td>20.1</td>\n",
       "      <td>66841</td>\n",
       "      <td>138</td>\n",
       "      <td>69</td>\n",
       "      <td>332542.288557</td>\n",
       "    </tr>\n",
       "    <tr>\n",
       "      <th>3</th>\n",
       "      <td>1800</td>\n",
       "      <td>32.3</td>\n",
       "      <td>75142</td>\n",
       "      <td>138</td>\n",
       "      <td>69</td>\n",
       "      <td>232637.770898</td>\n",
       "    </tr>\n",
       "    <tr>\n",
       "      <th>4</th>\n",
       "      <td>1804</td>\n",
       "      <td>23.8</td>\n",
       "      <td>143029</td>\n",
       "      <td>176</td>\n",
       "      <td>88</td>\n",
       "      <td>600962.184874</td>\n",
       "    </tr>\n",
       "  </tbody>\n",
       "</table>\n",
       "</div>"
      ],
      "text/plain": [
       "   ElectionYear  Turnout(%)  TotalVotes  TotalElectoralVotes  \\\n",
       "0          1788        11.6       39624                   69   \n",
       "1          1792         6.3       28300                  132   \n",
       "2          1796        20.1       66841                  138   \n",
       "3          1800        32.3       75142                  138   \n",
       "4          1804        23.8      143029                  176   \n",
       "\n",
       "   ElectoralVotesToWin  ElectoralRoll  \n",
       "0                   35  341586.206897  \n",
       "1                   66  449206.349206  \n",
       "2                   69  332542.288557  \n",
       "3                   69  232637.770898  \n",
       "4                   88  600962.184874  "
      ]
     },
     "execution_count": 10,
     "metadata": {},
     "output_type": "execute_result"
    }
   ],
   "source": [
    "### Completa con tu código aquí:\n",
    "\n",
    "df['ElectoralRoll'] = 100 * df['TotalVotes'] / df['Turnout(%)']\n",
    "df.head()"
   ]
  },
  {
   "cell_type": "markdown",
   "metadata": {
    "id": "K4aHUv71TL-m"
   },
   "source": [
    "### Ejercicio 8\n",
    "\n",
    "* ¿En qué año se registró por primera vez más del 50% de participación?"
   ]
  },
  {
   "cell_type": "code",
   "execution_count": 11,
   "metadata": {
    "id": "w-2b7V-mTL-m",
    "outputId": "37089083-ea1b-4bd6-8015-08e7d4bf3a20"
   },
   "outputs": [
    {
     "name": "stdout",
     "output_type": "stream",
     "text": [
      "First year with > 50%: 1828\n"
     ]
    }
   ],
   "source": [
    "### Completa con tu código aquí:\n",
    "\n",
    "year =df.loc[df['Turnout(%)'] > 50,'ElectionYear'].min()\n",
    "\n",
    "print(\"First year with > 50%: {}\".format(year))"
   ]
  },
  {
   "cell_type": "markdown",
   "metadata": {
    "id": "1qrRC2-KTL-m"
   },
   "source": [
    "### Ejercicio 9\n",
    "\n",
    "* ¿Cuál fue el máximo, mímino, promedio y desvio estandar en el nivel de participación durante siglo XX?"
   ]
  },
  {
   "cell_type": "code",
   "execution_count": 12,
   "metadata": {
    "id": "RZvUocdtTL-m",
    "outputId": "ac9503ff-d719-4e76-a273-629cea1bbb55"
   },
   "outputs": [
    {
     "name": "stdout",
     "output_type": "stream",
     "text": [
      "mean => 58.55\n",
      "sd => 5.78\n",
      "max => 73.7\n",
      "min => 48.9\n"
     ]
    }
   ],
   "source": [
    "### Completa con tu código aquí:\n",
    "\n",
    "mask_XX = (df['ElectionYear'] >= 1900) & (df['ElectionYear'] < 2000)\n",
    "\n",
    "mn = df.loc[mask_XX, 'Turnout(%)'].mean()\n",
    "sd = df.loc[mask_XX, 'Turnout(%)'].std()\n",
    "_max = df.loc[mask_XX, 'Turnout(%)'].max()\n",
    "_min = df.loc[mask_XX, 'Turnout(%)'].min()\n",
    "\n",
    "print(f\"mean => {np.round(mn, 2)}\")\n",
    "print(f\"sd => {np.round(sd, 2)}\")\n",
    "print(f\"max => {_max}\")\n",
    "print(f\"min => {_min}\")"
   ]
  },
  {
   "cell_type": "code",
   "execution_count": null,
   "metadata": {
    "id": "2MciCwrjTL-m"
   },
   "outputs": [],
   "source": []
  }
 ],
 "metadata": {
  "colab": {
   "provenance": []
  },
  "kernelspec": {
   "display_name": "Python 3 (ipykernel)",
   "language": "python",
   "name": "python3"
  },
  "language_info": {
   "codemirror_mode": {
    "name": "ipython",
    "version": 3
   },
   "file_extension": ".py",
   "mimetype": "text/x-python",
   "name": "python",
   "nbconvert_exporter": "python",
   "pygments_lexer": "ipython3",
   "version": "3.9.12"
  }
 },
 "nbformat": 4,
 "nbformat_minor": 1
}
